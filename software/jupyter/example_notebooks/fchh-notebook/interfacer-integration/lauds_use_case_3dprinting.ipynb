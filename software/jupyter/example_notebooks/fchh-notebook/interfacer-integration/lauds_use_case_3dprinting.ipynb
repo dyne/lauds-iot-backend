{
 "cells": [
  {
   "cell_type": "code",
   "execution_count": 48,
   "id": "473e866f-7381-47bf-bc86-00157c9412d0",
   "metadata": {},
   "outputs": [
    {
     "name": "stdout",
     "output_type": "stream",
     "text": [
      "The autoreload extension is already loaded. To reload it, use:\n",
      "  %reload_ext autoreload\n"
     ]
    }
   ],
   "source": [
    "# The following should reload if_lib if we change it on disk\n",
    "%load_ext autoreload\n",
    "%aimport if_lib, if_utils, if_dpp, if_graphics, if_consts\n",
    "%autoreload 1\n",
    "import os\n",
    "import json\n",
    "import random\n",
    "\n",
    "from if_utils import get_filename, show_data, save_traces\n",
    "\n",
    "from if_lib import generate_random_challenge, read_HMAC, read_keypair, get_id_person, get_location_id, \\\n",
    "get_unit_id, get_resource_spec_id, get_resource, get_process, create_event, make_transfer, reduce_resource, set_user_location\n",
    "\n",
    "from if_dpp import trace_query, check_traces, er_before, get_dpp\n",
    "\n",
    "from if_graphics import vis_dpp, make_sankey, consol_trace"
   ]
  },
  {
   "cell_type": "code",
   "execution_count": 49,
   "id": "faec52e5-71da-42b7-b736-de077de77e35",
   "metadata": {},
   "outputs": [],
   "source": [
    "# We define the constant for our case\n",
    "USE_CASE = 'Lauds_Machine-3D-Printer'\n",
    "\n",
    "# What endpoint are we talking to?\n",
    "# debug\n",
    "# ENDPOINT = 'http://65.109.11.42:10000/api'\n",
    "ENDPOINT = 'https://zenflows.interfacer-staging.dyne.im/api'\n",
    "# ENDPOINT = 'http://zenflows-debug.interfacer.dyne.org/api'\n",
    "# staging\n",
    "# ENDPOINT = 'http://65.109.11.42:8000/api'\n",
    "# ENDPOINT = 'https://zenflows-staging.interfacer.dyne.org/api'\n",
    "# testing\n",
    "# ENDPOINT = 'http://65.109.11.42:9000/api'\n",
    "# ENDPOINT = 'https://zenflows-test.interfacer.dyne.org/api'\n",
    "#ENDPOINT = 'http://192.168.188.199:8000/api'\n",
    "#ENDPOINT = 'https://zenflows-staging.interfacer.dyne.im/api'\n",
    "USERS = ['A', 'B']"
   ]
  },
  {
   "cell_type": "code",
   "execution_count": 50,
   "id": "5edf717c-a09c-403f-b24e-4d5367d73235",
   "metadata": {},
   "outputs": [],
   "source": [
    "# Calculate names of settings files\n",
    "USERS_FILE = get_filename('cred_users.json', ENDPOINT, USE_CASE)\n",
    "LOCS_FILE = get_filename('loc_users.json', ENDPOINT, USE_CASE)\n",
    "UNITS_FILE = get_filename('units_data.json', ENDPOINT, USE_CASE)\n",
    "SPECS_FILE = get_filename('res_spec_data.json', ENDPOINT, USE_CASE)"
   ]
  },
  {
   "cell_type": "code",
   "execution_count": 51,
   "id": "802d4845-60f6-4c54-9047-3103d921e254",
   "metadata": {},
   "outputs": [
    {
     "name": "stdout",
     "output_type": "stream",
     "text": [
      "Generated challenge: ku2sIfzeA3MHeKerlQMXMq6IRpeyhcc8EcCjz5P5x/tUCkshLMX2MfaPw6xqQNn4QPt27TeUkf9vHSEtXjFiHg==\n"
     ]
    },
    {
     "data": {
      "text/plain": [
       "'ku2sIfzeA3MHeKerlQMXMq6IRpeyhcc8EcCjz5P5x/tUCkshLMX2MfaPw6xqQNn4QPt27TeUkf9vHSEtXjFiHg=='"
      ]
     },
     "execution_count": 51,
     "metadata": {},
     "output_type": "execute_result"
    }
   ],
   "source": [
    "# This should print something like\n",
    "# Generated challenge: MMQ1JSrCA7L4QNftLyaaSRunT4Z9+Rr2QkE+a+DWLEljtg6EroLbCj5VjLH+xba9Rv1D+3ncQHw5s/lH41IFJw==\n",
    "generate_random_challenge()"
   ]
  },
  {
   "cell_type": "code",
   "execution_count": 52,
   "id": "b78af166-cef0-4867-84ce-93c7fcded11e",
   "metadata": {},
   "outputs": [
    {
     "name": "stdout",
     "output_type": "stream",
     "text": [
      "Credentials file available for users\n",
      "Location file available\n",
      "Unit file available\n",
      "Resource Spec file available\n"
     ]
    }
   ],
   "source": [
    "# Read or define user data that is going to be used in the GraphQL calls\n",
    "\n",
    "# create data structure to hold processes\n",
    "process_data = {}\n",
    "\n",
    "# create data structures to hold resources and events (possibly to compare results from track and trace)\n",
    "res_data = {}\n",
    "event_seq = []\n",
    "\n",
    "\n",
    "if os.path.isfile(USERS_FILE):\n",
    "    with open(USERS_FILE,'r') as f:\n",
    "        users_data = json.loads(f.read())\n",
    "    print(\"Credentials file available for users\")\n",
    "else:\n",
    "    users_data = {}\n",
    "    users_data['A'] = {\n",
    "      \"userChallenges\": {\n",
    "        \"whereParentsMet\": \"London\",\n",
    "        \"nameFirstPet\": \"Fuffy\",\n",
    "        \"nameFirstTeacher\": \"Jim\",\n",
    "        \"whereHomeTown\": \"Paris\",\n",
    "        \"nameMotherMaid\": \"Wright\"\n",
    "      },\n",
    "      \"name\": \"User A\",\n",
    "      \"username\": \"userA_username\",\n",
    "      \"email\": \"userA@example.org\",\n",
    "      \"note\": \"me.userA.org\"\n",
    "    }\n",
    "    users_data['B'] = {\n",
    "        \"userChallenges\": {\n",
    "            \"whereParentsMet\":\"Amsterdam\",\n",
    "            \"nameFirstPet\":\"Toby\",\n",
    "            \"nameFirstTeacher\":\"Juliet\",\n",
    "            \"whereHomeTown\":\"Rome\",\n",
    "            \"nameMotherMaid\":\"Banks\"\n",
    "        },\n",
    "        \"name\": \"User B\",\n",
    "        \"username\": \"userB\",\n",
    "        \"email\": \"userB@example.org\",\n",
    "        \"note\" : \"me.userB.org\"\n",
    "    }\n",
    "\n",
    "    with open(USERS_FILE,'w') as f:\n",
    "        json.dump(users_data, f)\n",
    "\n",
    "\n",
    "if os.path.isfile(LOCS_FILE):\n",
    "    with open(LOCS_FILE,'r') as f:\n",
    "        locs_data = json.loads(f.read())\n",
    "    print(\"Location file available\")\n",
    "else:\n",
    "    locs_data = {}\n",
    "    locs_data['A'] = {\n",
    "        \"name\": \"OLVG\",\n",
    "        \"lat\": 52.35871773455108,\n",
    "        \"long\": 4.916762398221842,\n",
    "        \"addr\": \"Oosterpark 9, 1091 AC Amsterdam\",\n",
    "        \"note\": \"location.user1.org\"\n",
    "    }\n",
    "    locs_data['B'] = {\n",
    "        \"name\": \"CleanLease\",\n",
    "        \"lat\" : 51.47240440868687,\n",
    "        \"long\" : 5.412460440524406,\n",
    "        \"addr\" : \"De schakel 30, 5651 Eindhoven\",\n",
    "        \"note\": \"location.user2.org\"\n",
    "    }\n",
    "    with open(LOCS_FILE,'w') as f:\n",
    "        json.dump(locs_data, f)\n",
    "\n",
    "\n",
    "if os.path.isfile(UNITS_FILE):\n",
    "    with open(UNITS_FILE,'r') as f:\n",
    "        units_data = json.loads(f.read())\n",
    "    print(f\"Unit file available\")\n",
    "else:\n",
    "    units_data = {}\n",
    "#     with open(file,'w') as f:\n",
    "#         json.dump(units_data, f)\n",
    "\n",
    "\n",
    "\n",
    "if os.path.isfile(SPECS_FILE):\n",
    "    with open(SPECS_FILE,'r') as f:\n",
    "        res_spec_data = json.loads(f.read())\n",
    "    print(f\"Resource Spec file available\")\n",
    "else:\n",
    "    res_spec_data = {}\n",
    "  "
   ]
  },
  {
   "cell_type": "code",
   "execution_count": 53,
   "id": "5260db8e-41c6-4898-9150-619a8295a14a",
   "metadata": {},
   "outputs": [
    {
     "name": "stdout",
     "output_type": "stream",
     "text": [
      "Server HMAC available for User A\n",
      "Server HMAC available for User B\n"
     ]
    }
   ],
   "source": [
    "# Read HMAC or get it from the server\n",
    "for user in USERS:\n",
    "    read_HMAC(USERS_FILE, users_data, user, endpoint=ENDPOINT)"
   ]
  },
  {
   "cell_type": "code",
   "execution_count": 54,
   "id": "351c2bee-b55a-4b06-b528-8dced60e411d",
   "metadata": {},
   "outputs": [
    {
     "name": "stdout",
     "output_type": "stream",
     "text": [
      "Keypair available for User A\n",
      "Keypair available for User B\n"
     ]
    }
   ],
   "source": [
    "# Read the keypair\n",
    "for user in USERS:\n",
    "    read_keypair(USERS_FILE, users_data, user)"
   ]
  },
  {
   "cell_type": "code",
   "execution_count": 55,
   "id": "6e64f2a6-e3a4-4da1-8df9-b5508819e0ad",
   "metadata": {},
   "outputs": [
    {
     "name": "stdout",
     "output_type": "stream",
     "text": [
      "Id available for User A\n",
      "Id available for User B\n"
     ]
    }
   ],
   "source": [
    "# read or get id of the person\n",
    "for user in USERS:\n",
    "    get_id_person(USERS_FILE, users_data, user, endpoint=ENDPOINT)"
   ]
  },
  {
   "cell_type": "code",
   "execution_count": 56,
   "id": "d7fad28b-f02f-4265-9449-9b11555144a7",
   "metadata": {},
   "outputs": [
    {
     "name": "stdout",
     "output_type": "stream",
     "text": [
      "Location id available for OLVG\n",
      "Location id available for User A\n",
      "Location id available for CleanLease\n",
      "Location id available for User B\n"
     ]
    }
   ],
   "source": [
    "# Read of get the location id\n",
    "for user in USERS:\n",
    "    get_location_id(LOCS_FILE, users_data[user], locs_data, user, endpoint=ENDPOINT)\n",
    "    set_user_location(USERS_FILE, users_data, locs_data, user, endpoint=ENDPOINT)"
   ]
  },
  {
   "cell_type": "code",
   "execution_count": 57,
   "id": "ca26622d-1b2e-484f-8742-644ae090e222",
   "metadata": {},
   "outputs": [
    {
     "name": "stdout",
     "output_type": "stream",
     "text": [
      "Unit piece available\n",
      "Unit mass available\n",
      "Unit volume available\n",
      "Unit time available\n",
      "Unit energy available\n"
     ]
    }
   ],
   "source": [
    "# Get the ids of all units\n",
    "get_unit_id(UNITS_FILE, users_data['A'], units_data, 'piece', 'u_piece', 'om2:one', endpoint=ENDPOINT)\n",
    "get_unit_id(UNITS_FILE, users_data['A'], units_data, 'mass', 'kg', 'om2:kilogram', endpoint=ENDPOINT)\n",
    "get_unit_id(UNITS_FILE, users_data['A'], units_data, 'volume', 'lt', 'om2:litre', endpoint=ENDPOINT)\n",
    "get_unit_id(UNITS_FILE, users_data['A'], units_data, 'time', 'h', 'om2:hour', endpoint=ENDPOINT)\n",
    "get_unit_id(UNITS_FILE, users_data['A'], units_data, 'energy', 'Wh', 'om2:wattHour', endpoint=ENDPOINT)\n",
    "\n"
   ]
  },
  {
   "cell_type": "code",
   "execution_count": 58,
   "id": "cd4b9cbe-7de1-44aa-8a27-63bb72521176",
   "metadata": {},
   "outputs": [
    {
     "name": "stdout",
     "output_type": "stream",
     "text": [
      "Specification Machine-3D-Printer available\n",
      "Specification Filament available\n",
      "Specification Electrical-Energy available\n",
      "Specification 3D-object-Luffy available\n",
      "Specification 3D-gcode-file-Luffy available\n"
     ]
    }
   ],
   "source": [
    "# Read all the resource specifications for 3D printing workflow\n",
    "\n",
    "# 3D Printer\n",
    "name = 'Machine-3D-Printer'\n",
    "note = 'Specification for the 3D printer used by the operator'\n",
    "classification = 'https://www.wikidata.org/wiki/Q2095'  # Wikidata: 3D printer\n",
    "default_unit_id = units_data['piece']['id']\n",
    "get_resource_spec_id(SPECS_FILE, users_data['A'], res_spec_data, name, note, classification, default_unit_id, endpoint=ENDPOINT)\n",
    "\n",
    "# Filament\n",
    "name = 'Filament'\n",
    "note = 'Specification for 3D printing filament material'\n",
    "classification = 'https://www.wikidata.org/wiki/Q11782'  # Wikidata: plastic (or adjust to specific filament type)\n",
    "default_unit_id = units_data['mass']['id']\n",
    "get_resource_spec_id(SPECS_FILE, users_data['A'], res_spec_data, name, note, classification, default_unit_id, endpoint=ENDPOINT)\n",
    "\n",
    "# Electrical Energy\n",
    "name = 'Electrical-Energy'\n",
    "note = 'Specification for electrical energy consumed during 3D printing'\n",
    "classification = 'https://www.wikidata.org/wiki/Q6837'  # Wikidata: electricity\n",
    "default_unit_id = units_data['energy']['id']\n",
    "get_resource_spec_id(SPECS_FILE, users_data['A'], res_spec_data, name, note, classification, default_unit_id, endpoint=ENDPOINT)\n",
    "\n",
    "# 3D Object “Luffy”\n",
    "name = '3D-object-Luffy'\n",
    "note = 'Specification for the 3D printed object named Luffy'\n",
    "classification = 'https://www.wikidata.org/wiki/Q1248784'  # Wikidata: manufactured object\n",
    "default_unit_id = units_data['piece']['id']\n",
    "get_resource_spec_id(SPECS_FILE, users_data['A'], res_spec_data, name, note, classification, default_unit_id, endpoint=ENDPOINT)\n",
    "\n",
    "# G-code file specification\n",
    "name = '3D-gcode-file-Luffy'\n",
    "note = 'Specification for the 3D printing G-code file for Luffy'\n",
    "classification = 'https://www.wikidata.org/wiki/Q1073076'  # Wikidata: Computer file\n",
    "default_unit_id = units_data['piece']['id']\n",
    "get_resource_spec_id(SPECS_FILE, users_data['A'], res_spec_data, name, note, classification, default_unit_id, endpoint=ENDPOINT)\n"
   ]
  },
  {
   "cell_type": "code",
   "execution_count": 59,
   "id": "7a11a370-c748-4ca5-b6af-b9a0c37287c2",
   "metadata": {},
   "outputs": [],
   "source": [
    "# We create the resources that will not be saved to file as it is assumed they are recreated at each run\n",
    "\n",
    "# 3D printer will be used\n",
    "res_name = 'Machine-3D-Printer'\n",
    "amount = 1\n",
    "get_resource(res_data, res_spec_data, res_name, users_data['A'], event_seq, amount, endpoint=ENDPOINT)\n",
    "\n",
    "# Filament for printing\n",
    "res_name = 'Filament'\n",
    "amount = 1  # in kg (adjust based on your workflow)\n",
    "get_resource(res_data, res_spec_data, res_name, users_data['A'], event_seq, amount, endpoint=ENDPOINT)\n",
    "\n",
    "# Electrical energy for printing\n",
    "res_name = 'Electrical-Energy'\n",
    "amount = 1000  # in Wh (adjust based on your workflow)\n",
    "get_resource(res_data, res_spec_data, res_name, users_data['A'], event_seq, amount, endpoint=ENDPOINT)\n",
    "\n",
    "# 3D-gcode file\n",
    "res_name = '3D-gcode-file-Luffy'\n",
    "amount = 1\n",
    "get_resource(res_data, res_spec_data, res_name, users_data['A'], event_seq, amount, endpoint=ENDPOINT)\n"
   ]
  },
  {
   "cell_type": "code",
   "execution_count": 60,
   "id": "e9bd29c1-0fdc-4b15-8225-2a4eff2734db",
   "metadata": {},
   "outputs": [],
   "source": [
    "# Create the process that wraps creating the 3D object “Luffy”\n",
    "process_name = 'Create_3D_object_Luffy'\n",
    "user_data = users_data['A']\n",
    "note = f\"3D printing process to create object 'Luffy' performed by {user_data['name']}\"\n",
    "get_process(process_name, process_data, note, user_data, endpoint=ENDPOINT)\n"
   ]
  },
  {
   "cell_type": "code",
   "execution_count": 61,
   "id": "029ad743-024a-49a2-8e63-bfd22c8cbe6c",
   "metadata": {},
   "outputs": [
    {
     "name": "stdout",
     "output_type": "stream",
     "text": [
      "{'res_ref_id': '3D-object-Luffy-7454', 'name': '3D-object-Luffy', 'spec_id': '06CGBH6819B2TETX2N08ANMM64'}\n"
     ]
    }
   ],
   "source": [
    "# Define event produce for 3D object “Luffy”\n",
    "cur_res = action = event_note = amount = cur_pros = None\n",
    "action = 'produce'\n",
    "event_note = 'produce 3D-object-Luffy'\n",
    "amount = 1\n",
    "cur_pros = process_data['Create_3D_object_Luffy']\n",
    "\n",
    "res_data['3D-object-Luffy'] = {\n",
    "    \"res_ref_id\": f'3D-object-Luffy-{random.randint(0, 10000)}',\n",
    "    \"name\": '3D-object-Luffy',\n",
    "    \"spec_id\": res_spec_data['3D-object-Luffy']['id']\n",
    "}\n",
    "\n",
    "print(res_data['3D-object-Luffy'])\n",
    "cur_res = res_data['3D-object-Luffy']\n",
    "\n",
    "event_id, ts = create_event(users_data['A'], action, event_note, amount=amount, process=cur_pros,\n",
    "                 res_spec_data=res_spec_data, new_res=cur_res, endpoint=ENDPOINT)\n",
    "\n",
    "event_seq.append({'ts': ts, 'event_id': event_id, 'action': action, 'res_name': cur_res['name'], 'res': cur_res['id']})\n"
   ]
  },
  {
   "cell_type": "code",
   "execution_count": 62,
   "id": "57cb7981-4f4e-4f39-9fee-7fbafc5e615b",
   "metadata": {},
   "outputs": [],
   "source": [
    "# Define event consume for filament\n",
    "cur_res = action = event_note = amount = cur_pros = None\n",
    "action = 'consume'\n",
    "event_note = 'consume filament for 3D-object-Luffy'\n",
    "amount = 50  # example: 50 grams, adjust as needed\n",
    "cur_pros = process_data['Create_3D_object_Luffy']\n",
    "\n",
    "cur_res = res_data['Filament']  # pre-existing\n",
    "\n",
    "event_id, ts = create_event(\n",
    "    provider=users_data['A'],\n",
    "    action='consume',                   # action on existing resource\n",
    "    note='consume filament for 3D-object-Luffy',\n",
    "    amount=50,\n",
    "    process=process_data['Create_3D_object_Luffy'],\n",
    "    res_spec_data=res_spec_data,\n",
    "    existing_res=cur_res,              # use existing_res, NOT new_res\n",
    "    endpoint=ENDPOINT\n",
    ")\n",
    "event_seq.append({'ts': ts, 'event_id': event_id, 'action': action, 'res_name': cur_res['name'], 'res': cur_res['id']})\n"
   ]
  },
  {
   "cell_type": "code",
   "execution_count": 64,
   "id": "65eeafd6-e0d4-414a-9fe2-340f681008e2",
   "metadata": {},
   "outputs": [],
   "source": [
    "# Define event consume for electrical energy\n",
    "cur_res = action = event_note = amount = cur_pros = None\n",
    "action = 'consume'\n",
    "event_note = 'consume electrical energy for 3D-object-Luffy'\n",
    "amount = 500  # example: 500 Wh, adjust as needed\n",
    "cur_pros = process_data['Create_3D_object_Luffy']\n",
    "\n",
    "cur_res = res_data['Electrical-Energy']\n",
    "\n",
    "event_id, ts = create_event(users_data['A'], action, event_note, amount=amount, process=cur_pros,\n",
    "                 res_spec_data=res_spec_data, existing_res=cur_res, endpoint=ENDPOINT)\n",
    "\n",
    "event_seq.append({'ts': ts, 'event_id': event_id, 'action': action, 'res_name': cur_res['name'], 'res': cur_res['id']})\n"
   ]
  },
  {
   "cell_type": "code",
   "execution_count": 65,
   "id": "7b819881-32ba-4e30-82b2-8650ff873949",
   "metadata": {},
   "outputs": [],
   "source": [
    "# Define event cite for 3D gcode file\n",
    "cur_res = action = event_note = amount = cur_pros = None\n",
    "action = 'cite'\n",
    "event_note = 'cite 3D-gcode-file-Luffy'\n",
    "amount = 1\n",
    "cur_pros = process_data['Create_3D_object_Luffy']\n",
    "\n",
    "cur_res = res_data['3D-gcode-file-Luffy']\n",
    "\n",
    "event_id, ts = create_event(users_data['A'], action, event_note, amount=amount, process=cur_pros,\n",
    "                 res_spec_data=res_spec_data, existing_res=cur_res, endpoint=ENDPOINT)\n",
    "\n",
    "event_seq.append({'ts': ts, 'event_id': event_id, 'action': action, 'res_name': cur_res['name'], 'res': cur_res['id']})\n"
   ]
  },
  {
   "cell_type": "code",
   "execution_count": 73,
   "id": "616c342d-1176-4b1b-a01d-8f171d90c3dc",
   "metadata": {},
   "outputs": [
    {
     "name": "stdout",
     "output_type": "stream",
     "text": [
      "Users\n",
      "{\n",
      "  \"A\": {\n",
      "    \"userChallenges\": {\n",
      "      \"whereParentsMet\": \"London\",\n",
      "      \"nameFirstPet\": \"Fuffy\",\n",
      "      \"nameFirstTeacher\": \"Jim\",\n",
      "      \"whereHomeTown\": \"Paris\",\n",
      "      \"nameMotherMaid\": \"Wright\"\n",
      "    },\n",
      "    \"name\": \"User A\",\n",
      "    \"username\": \"userA_username\",\n",
      "    \"email\": \"userA@example.org\",\n",
      "    \"note\": \"me.userA.org\",\n",
      "    \"seedServerSideShard.HMAC\": \"IqaW9oqMFSNgrjXsU2U/EwT4FugadCm8ZVFqkcT4spc=\",\n",
      "    \"seed\": \"solution garage know special trap wheel timber raven measure miracle achieve horn\",\n",
      "    \"eddsa_public_key\": \"b3XYnrMAPYre61K2jH6gq3A4G6xZrKYfuZ9kwihs55S\",\n",
      "    \"keyring\": {\n",
      "      \"eddsa\": \"DCqKRyK14C3Jmk4ifpGgMQFcv8nznouynSYXA8RMRieC\"\n",
      "    },\n",
      "    \"id\": \"06AQ1F95G855Y8P61GHC9FAS04\",\n",
      "    \"location_id\": \"06CGBG9MZ50VMHD7C7511H080C\"\n",
      "  },\n",
      "  \"B\": {\n",
      "    \"userChallenges\": {\n",
      "      \"whereParentsMet\": \"Amsterdam\",\n",
      "      \"nameFirstPet\": \"Toby\",\n",
      "      \"nameFirstTeacher\": \"Juliet\",\n",
      "      \"whereHomeTown\": \"Rome\",\n",
      "      \"nameMotherMaid\": \"Banks\"\n",
      "    },\n",
      "    \"name\": \"User B\",\n",
      "    \"username\": \"userB\",\n",
      "    \"email\": \"userB@example.org\",\n",
      "    \"note\": \"me.userB.org\",\n",
      "    \"seedServerSideShard.HMAC\": \"kcpCZar+hOtFyeM05zzuVg5MNLDSfCHfjYd3NJTnImQ=\",\n",
      "    \"seed\": \"laundry arrest purpose enlist portion tourist zero robot loyal afraid liquid address\",\n",
      "    \"eddsa_public_key\": \"3woy151iWdPAeLn3BucSXNNKL1iW1sdYgxvKFmNTPFQf\",\n",
      "    \"keyring\": {\n",
      "      \"eddsa\": \"A1cN8gtRs4iH81Mkczu6KqnaMAry2bgtjje7DHc5KkXP\"\n",
      "    },\n",
      "    \"id\": \"06AQ1F969GQXGN6RR019VA0KA0\",\n",
      "    \"location_id\": \"06CGBG9Q8V0JEVSP4ADQNX30A0\"\n",
      "  }\n",
      "}\n",
      "Locations\n",
      "{\n",
      "  \"A\": {\n",
      "    \"name\": \"OLVG\",\n",
      "    \"lat\": 52.35871773455108,\n",
      "    \"long\": 4.916762398221842,\n",
      "    \"addr\": \"Oosterpark 9, 1091 AC Amsterdam\",\n",
      "    \"note\": \"location.user1.org\",\n",
      "    \"id\": \"06CGBG9MZ50VMHD7C7511H080C\",\n",
      "    \"user_id\": \"06AQ1F95G855Y8P61GHC9FAS04\"\n",
      "  },\n",
      "  \"B\": {\n",
      "    \"name\": \"CleanLease\",\n",
      "    \"lat\": 51.47240440868687,\n",
      "    \"long\": 5.412460440524406,\n",
      "    \"addr\": \"De schakel 30, 5651 Eindhoven\",\n",
      "    \"note\": \"location.user2.org\",\n",
      "    \"id\": \"06CGBG9Q8V0JEVSP4ADQNX30A0\",\n",
      "    \"user_id\": \"06AQ1F969GQXGN6RR019VA0KA0\"\n",
      "  }\n",
      "}\n",
      "Resources\n",
      "{\n",
      "  \"Machine-3D-Printer\": {\n",
      "    \"res_ref_id\": \"Machine-3D-Printer-1742\",\n",
      "    \"name\": \"Machine-3D-Printer\",\n",
      "    \"spec_id\": \"06CGBH64J9Z3G6DH3ETBSYM4KW\",\n",
      "    \"id\": \"06CGBRCW5WV24BN3NGWPMSSKQC\"\n",
      "  },\n",
      "  \"Filament\": {\n",
      "    \"res_ref_id\": \"Filament-6764\",\n",
      "    \"name\": \"Filament\",\n",
      "    \"spec_id\": \"06CGBH65NNCND350GCH9TFME3R\",\n",
      "    \"id\": \"06CGBRCXEYKZWVVT0WQYNKFFJR\"\n",
      "  },\n",
      "  \"Electrical-Energy\": {\n",
      "    \"res_ref_id\": \"Electrical-Energy-5627\",\n",
      "    \"name\": \"Electrical-Energy\",\n",
      "    \"spec_id\": \"06CGBH66WK8HSBZTYCRY407STC\",\n",
      "    \"id\": \"06CGBRCYQWKTP7BZ7JA8EVFXCM\"\n",
      "  },\n",
      "  \"3D-gcode-file-Luffy\": {\n",
      "    \"res_ref_id\": \"3D-gcode-file-Luffy-6609\",\n",
      "    \"name\": \"3D-gcode-file-Luffy\",\n",
      "    \"spec_id\": \"06CGBH694QRAPS663TT0F9QBFR\",\n",
      "    \"id\": \"06CGBRCZYQA5JJDRXND1G8F4A0\"\n",
      "  },\n",
      "  \"3D-object-Luffy\": {\n",
      "    \"res_ref_id\": \"3D-object-Luffy-7454\",\n",
      "    \"name\": \"3D-object-Luffy\",\n",
      "    \"spec_id\": \"06CGBH6819B2TETX2N08ANMM64\",\n",
      "    \"id\": \"06CGBRDC96Z9GF0XHCQVH4APBW\"\n",
      "  }\n",
      "}\n",
      "Units\n",
      "{\n",
      "  \"piece\": {\n",
      "    \"label\": \"u_piece\",\n",
      "    \"symbol\": \"om2:one\",\n",
      "    \"id\": \"06CGBGEHZ8PAWS3P1T9ZQBV4P4\"\n",
      "  },\n",
      "  \"mass\": {\n",
      "    \"label\": \"kg\",\n",
      "    \"symbol\": \"om2:kilogram\",\n",
      "    \"id\": \"06CGBGEK7YDQMQBFMRY05T14WR\"\n",
      "  },\n",
      "  \"volume\": {\n",
      "    \"label\": \"lt\",\n",
      "    \"symbol\": \"om2:litre\",\n",
      "    \"id\": \"06CGBGEMCXD1GDHRQS3M849PA8\"\n",
      "  },\n",
      "  \"time\": {\n",
      "    \"label\": \"h\",\n",
      "    \"symbol\": \"om2:hour\",\n",
      "    \"id\": \"06CGBGENJ0RCQMQBT1J0VHTBN8\"\n",
      "  },\n",
      "  \"energy\": {\n",
      "    \"label\": \"Wh\",\n",
      "    \"symbol\": \"om2:wattHour\",\n",
      "    \"id\": \"06CGBGEPNF5B2KSE6RX4SB6FXM\"\n",
      "  }\n",
      "}\n",
      "Resource Specifications\n",
      "{\n",
      "  \"Machine-3D-Printer\": {\n",
      "    \"note\": \"Specification for the 3D printer used by the operator\",\n",
      "    \"classification\": \"https://www.wikidata.org/wiki/Q2095\",\n",
      "    \"defaultUnit\": \"06CGBGEHZ8PAWS3P1T9ZQBV4P4\",\n",
      "    \"id\": \"06CGBH64J9Z3G6DH3ETBSYM4KW\"\n",
      "  },\n",
      "  \"Filament\": {\n",
      "    \"note\": \"Specification for 3D printing filament material\",\n",
      "    \"classification\": \"https://www.wikidata.org/wiki/Q11782\",\n",
      "    \"defaultUnit\": \"06CGBGEK7YDQMQBFMRY05T14WR\",\n",
      "    \"id\": \"06CGBH65NNCND350GCH9TFME3R\"\n",
      "  },\n",
      "  \"Electrical-Energy\": {\n",
      "    \"note\": \"Specification for electrical energy consumed during 3D printing\",\n",
      "    \"classification\": \"https://www.wikidata.org/wiki/Q6837\",\n",
      "    \"defaultUnit\": \"06CGBGEPNF5B2KSE6RX4SB6FXM\",\n",
      "    \"id\": \"06CGBH66WK8HSBZTYCRY407STC\"\n",
      "  },\n",
      "  \"3D-object-Luffy\": {\n",
      "    \"note\": \"Specification for the 3D printed object named Luffy\",\n",
      "    \"classification\": \"https://www.wikidata.org/wiki/Q1248784\",\n",
      "    \"defaultUnit\": \"06CGBGEHZ8PAWS3P1T9ZQBV4P4\",\n",
      "    \"id\": \"06CGBH6819B2TETX2N08ANMM64\"\n",
      "  },\n",
      "  \"3D-gcode-file-Luffy\": {\n",
      "    \"note\": \"Specification for the 3D printing G-code file for Luffy\",\n",
      "    \"classification\": \"https://www.wikidata.org/wiki/Q1073076\",\n",
      "    \"defaultUnit\": \"06CGBGEHZ8PAWS3P1T9ZQBV4P4\",\n",
      "    \"id\": \"06CGBH694QRAPS663TT0F9QBFR\"\n",
      "  }\n",
      "}\n",
      "Process Definitions\n",
      "{\n",
      "  \"Create_3D_object_Luffy\": {\n",
      "    \"name\": \"Create_3D_object_Luffy\",\n",
      "    \"note\": \"3D printing process to create object 'Luffy' performed by User A\",\n",
      "    \"id\": \"06CGBRD901T2934G6M8S8XWBAM\"\n",
      "  }\n",
      "}\n",
      "Event sequence\n",
      "[\n",
      "  {\n",
      "    \"ts\": \"2025-09-01T15:24:55.421994+00:00\",\n",
      "    \"event_id\": \"06CGBRCW59N6C31TJGJCSVGA8M\",\n",
      "    \"action\": \"raise\",\n",
      "    \"res_name\": \"Machine-3D-Printer\",\n",
      "    \"res\": \"06CGBRCW5WV24BN3NGWPMSSKQC\"\n",
      "  },\n",
      "  {\n",
      "    \"ts\": \"2025-09-01T15:24:55.779620+00:00\",\n",
      "    \"event_id\": \"06CGBRCXEGEPFJRNEH9ETCRVA0\",\n",
      "    \"action\": \"raise\",\n",
      "    \"res_name\": \"Filament\",\n",
      "    \"res\": \"06CGBRCXEYKZWVVT0WQYNKFFJR\"\n",
      "  },\n",
      "  {\n",
      "    \"ts\": \"2025-09-01T15:24:56.103938+00:00\",\n",
      "    \"event_id\": \"06CGBRCYQHZ0XDRDQ5ZTGK7NZW\",\n",
      "    \"action\": \"raise\",\n",
      "    \"res_name\": \"Electrical-Energy\",\n",
      "    \"res\": \"06CGBRCYQWKTP7BZ7JA8EVFXCM\"\n",
      "  },\n",
      "  {\n",
      "    \"ts\": \"2025-09-01T15:24:56.432669+00:00\",\n",
      "    \"event_id\": \"06CGBRCZY8DMYKM91QQM5V04NW\",\n",
      "    \"action\": \"raise\",\n",
      "    \"res_name\": \"3D-gcode-file-Luffy\",\n",
      "    \"res\": \"06CGBRCZYQA5JJDRXND1G8F4A0\"\n",
      "  },\n",
      "  {\n",
      "    \"ts\": \"2025-09-01T15:24:59.572571+00:00\",\n",
      "    \"event_id\": \"06CGBRDC8ZG77VB7FT4W9050V8\",\n",
      "    \"action\": \"produce\",\n",
      "    \"res_name\": \"3D-object-Luffy\",\n",
      "    \"res\": \"06CGBRDC96Z9GF0XHCQVH4APBW\"\n",
      "  },\n",
      "  {\n",
      "    \"ts\": \"2025-09-01T15:25:00.688687+00:00\",\n",
      "    \"event_id\": \"06CGBRDGMRM9Z2Q87F77X00Y9R\",\n",
      "    \"action\": \"consume\",\n",
      "    \"res_name\": \"Filament\",\n",
      "    \"res\": \"06CGBRCXEYKZWVVT0WQYNKFFJR\"\n",
      "  },\n",
      "  {\n",
      "    \"ts\": \"2025-09-01T15:27:24.083801+00:00\",\n",
      "    \"event_id\": \"06CGBRZ36NHNGK1N0BC74N5S0C\",\n",
      "    \"action\": \"consume\",\n",
      "    \"res_name\": \"Electrical-Energy\",\n",
      "    \"res\": \"06CGBRCYQWKTP7BZ7JA8EVFXCM\"\n",
      "  },\n",
      "  {\n",
      "    \"ts\": \"2025-09-01T15:27:45.128054+00:00\",\n",
      "    \"event_id\": \"06CGBS1K0K8QFB0ZSB4NPY3BJ4\",\n",
      "    \"action\": \"cite\",\n",
      "    \"res_name\": \"3D-gcode-file-Luffy\",\n",
      "    \"res\": \"06CGBRCZYQA5JJDRXND1G8F4A0\"\n",
      "  }\n",
      "]\n",
      "Proposal data\n",
      "{}\n",
      "Intent data\n",
      "{}\n",
      "Proposed Intent data\n",
      "{}\n",
      "Satisfaction data\n",
      "{}\n",
      "Process Groups data\n",
      "{}\n"
     ]
    }
   ],
   "source": [
    "show_data(users_data, locs_data, res_data, units_data, res_spec_data, process_data, event_seq)"
   ]
  },
  {
   "cell_type": "code",
   "execution_count": 75,
   "id": "9f194429-d39c-43fc-ade6-1554d98abcdb",
   "metadata": {},
   "outputs": [
    {
     "name": "stdout",
     "output_type": "stream",
     "text": [
      "Resource to be traced: 06CGBRDC96Z9GF0XHCQVH4APBW\n",
      "[\n",
      "  {\n",
      "    \"accountingQuantity\": {\n",
      "      \"hasNumericalValue\": \"1\",\n",
      "      \"hasUnit\": {\n",
      "        \"id\": \"06CGBGEHZ8PAWS3P1T9ZQBV4P4\",\n",
      "        \"label\": \"u_piece\",\n",
      "        \"symbol\": \"om2:one\"\n",
      "      }\n",
      "    },\n",
      "    \"currentLocation\": {\n",
      "      \"alt\": \"0\",\n",
      "      \"id\": \"06CGBG9MZ50VMHD7C7511H080C\",\n",
      "      \"lat\": \"52.35871773455108\",\n",
      "      \"long\": \"4.916762398221842\",\n",
      "      \"mappableAddress\": \"Oosterpark 9, 1091 AC Amsterdam\",\n",
      "      \"name\": \"OLVG\",\n",
      "      \"note\": \"location.user1.org\"\n",
      "    },\n",
      "    \"custodian\": {\n",
      "      \"id\": \"06AQ1F95G855Y8P61GHC9FAS04\",\n",
      "      \"name\": \"User A\",\n",
      "      \"note\": null,\n",
      "      \"primaryLocation\": {\n",
      "        \"alt\": \"0\",\n",
      "        \"id\": \"06CGBG9MZ50VMHD7C7511H080C\",\n",
      "        \"lat\": \"52.35871773455108\",\n",
      "        \"long\": \"4.916762398221842\",\n",
      "        \"mappableAddress\": \"Oosterpark 9, 1091 AC Amsterdam\",\n",
      "        \"name\": \"OLVG\",\n",
      "        \"note\": \"location.user1.org\"\n",
      "      },\n",
      "      \"type\": \"Person\"\n",
      "    },\n",
      "    \"id\": \"06CGBRDC96Z9GF0XHCQVH4APBW\",\n",
      "    \"metadata\": null,\n",
      "    \"name\": \"3D-object-Luffy\",\n",
      "    \"onhandQuantity\": {\n",
      "      \"hasNumericalValue\": \"1\",\n",
      "      \"hasUnit\": {\n",
      "        \"id\": \"06CGBGEHZ8PAWS3P1T9ZQBV4P4\",\n",
      "        \"label\": \"u_piece\",\n",
      "        \"symbol\": \"om2:one\"\n",
      "      }\n",
      "    },\n",
      "    \"primaryAccountable\": {\n",
      "      \"id\": \"06AQ1F95G855Y8P61GHC9FAS04\",\n",
      "      \"name\": \"User A\",\n",
      "      \"note\": null,\n",
      "      \"primaryLocation\": {\n",
      "        \"alt\": \"0\",\n",
      "        \"id\": \"06CGBG9MZ50VMHD7C7511H080C\",\n",
      "        \"lat\": \"52.35871773455108\",\n",
      "        \"long\": \"4.916762398221842\",\n",
      "        \"mappableAddress\": \"Oosterpark 9, 1091 AC Amsterdam\",\n",
      "        \"name\": \"OLVG\",\n",
      "        \"note\": \"location.user1.org\"\n",
      "      },\n",
      "      \"type\": \"Person\"\n",
      "    },\n",
      "    \"trackingIdentifier\": \"3D-object-Luffy-7454\",\n",
      "    \"type\": \"EconomicResource\",\n",
      "    \"children\": [\n",
      "      {\n",
      "        \"action\": {\n",
      "          \"id\": \"produce\",\n",
      "          \"inputOutput\": \"output\",\n",
      "          \"label\": \"produce\",\n",
      "          \"onhandEffect\": \"increment\",\n",
      "          \"pairsWith\": \"notApplicable\",\n",
      "          \"resourceEffect\": \"increment\"\n",
      "        },\n",
      "        \"agreedIn\": null,\n",
      "        \"atLocation\": null,\n",
      "        \"effortQuantity\": null,\n",
      "        \"hasBeginning\": null,\n",
      "        \"hasEnd\": null,\n",
      "        \"hasPointInTime\": \"2025-09-01T15:24:59.572571Z\",\n",
      "        \"id\": \"06CGBRDC8ZG77VB7FT4W9050V8\",\n",
      "        \"inputOf\": null,\n",
      "        \"note\": \"produce 3D-object-Luffy\",\n",
      "        \"outputOf\": {\n",
      "          \"basedOn\": null,\n",
      "          \"classifiedAs\": null,\n",
      "          \"deletable\": false,\n",
      "          \"finished\": false,\n",
      "          \"groupedIn\": null,\n",
      "          \"hasBeginning\": \"2025-09-01T15:24:58.712235Z\",\n",
      "          \"hasEnd\": \"2025-09-01T15:24:58.712235Z\",\n",
      "          \"id\": \"06CGBRD901T2934G6M8S8XWBAM\",\n",
      "          \"name\": \"Create_3D_object_Luffy\",\n",
      "          \"nestedIn\": null,\n",
      "          \"note\": \"3D printing process to create object 'Luffy' performed by User A\",\n",
      "          \"plannedWithin\": null,\n",
      "          \"type\": \"Process\"\n",
      "        },\n",
      "        \"provider\": {\n",
      "          \"id\": \"06AQ1F95G855Y8P61GHC9FAS04\",\n",
      "          \"name\": \"User A\",\n",
      "          \"note\": null,\n",
      "          \"primaryLocation\": {\n",
      "            \"alt\": \"0\",\n",
      "            \"id\": \"06CGBG9MZ50VMHD7C7511H080C\",\n",
      "            \"lat\": \"52.35871773455108\",\n",
      "            \"long\": \"4.916762398221842\",\n",
      "            \"mappableAddress\": \"Oosterpark 9, 1091 AC Amsterdam\",\n",
      "            \"name\": \"OLVG\",\n",
      "            \"note\": \"location.user1.org\"\n",
      "          },\n",
      "          \"type\": \"Person\"\n",
      "        },\n",
      "        \"realizationOf\": null,\n",
      "        \"receiver\": {\n",
      "          \"id\": \"06AQ1F95G855Y8P61GHC9FAS04\",\n",
      "          \"name\": \"User A\",\n",
      "          \"note\": null,\n",
      "          \"primaryLocation\": {\n",
      "            \"alt\": \"0\",\n",
      "            \"id\": \"06CGBG9MZ50VMHD7C7511H080C\",\n",
      "            \"lat\": \"52.35871773455108\",\n",
      "            \"long\": \"4.916762398221842\",\n",
      "            \"mappableAddress\": \"Oosterpark 9, 1091 AC Amsterdam\",\n",
      "            \"name\": \"OLVG\",\n",
      "            \"note\": \"location.user1.org\"\n",
      "          },\n",
      "          \"type\": \"Person\"\n",
      "        },\n",
      "        \"resourceClassifiedAs\": null,\n",
      "        \"resourceConformsTo\": {\n",
      "          \"defaultUnitOfEffort\": null,\n",
      "          \"defaultUnitOfResource\": {\n",
      "            \"id\": \"06CGBGEHZ8PAWS3P1T9ZQBV4P4\",\n",
      "            \"label\": \"u_piece\",\n",
      "            \"symbol\": \"om2:one\"\n",
      "          },\n",
      "          \"id\": \"06CGBH6819B2TETX2N08ANMM64\",\n",
      "          \"name\": \"3D-object-Luffy\",\n",
      "          \"note\": \"Specification for the 3D printed object named Luffy\",\n",
      "          \"resourceClassifiedAs\": [\n",
      "            \"https://www.wikidata.org/wiki/Q1248784\"\n",
      "          ]\n",
      "        },\n",
      "        \"resourceInventoriedAs\": {\n",
      "          \"accountingQuantity\": {\n",
      "            \"hasNumericalValue\": \"1\",\n",
      "            \"hasUnit\": {\n",
      "              \"id\": \"06CGBGEHZ8PAWS3P1T9ZQBV4P4\",\n",
      "              \"label\": \"u_piece\",\n",
      "              \"symbol\": \"om2:one\"\n",
      "            }\n",
      "          },\n",
      "          \"currentLocation\": {\n",
      "            \"alt\": \"0\",\n",
      "            \"id\": \"06CGBG9MZ50VMHD7C7511H080C\",\n",
      "            \"lat\": \"52.35871773455108\",\n",
      "            \"long\": \"4.916762398221842\",\n",
      "            \"mappableAddress\": \"Oosterpark 9, 1091 AC Amsterdam\",\n",
      "            \"name\": \"OLVG\",\n",
      "            \"note\": \"location.user1.org\"\n",
      "          },\n",
      "          \"custodian\": {\n",
      "            \"id\": \"06AQ1F95G855Y8P61GHC9FAS04\",\n",
      "            \"name\": \"User A\",\n",
      "            \"note\": null,\n",
      "            \"primaryLocation\": {\n",
      "              \"alt\": \"0\",\n",
      "              \"id\": \"06CGBG9MZ50VMHD7C7511H080C\",\n",
      "              \"lat\": \"52.35871773455108\",\n",
      "              \"long\": \"4.916762398221842\",\n",
      "              \"mappableAddress\": \"Oosterpark 9, 1091 AC Amsterdam\",\n",
      "              \"name\": \"OLVG\",\n",
      "              \"note\": \"location.user1.org\"\n",
      "            },\n",
      "            \"type\": \"Person\"\n",
      "          },\n",
      "          \"id\": \"06CGBRDC96Z9GF0XHCQVH4APBW\",\n",
      "          \"metadata\": null,\n",
      "          \"name\": \"3D-object-Luffy\",\n",
      "          \"onhandQuantity\": {\n",
      "            \"hasNumericalValue\": \"1\",\n",
      "            \"hasUnit\": {\n",
      "              \"id\": \"06CGBGEHZ8PAWS3P1T9ZQBV4P4\",\n",
      "              \"label\": \"u_piece\",\n",
      "              \"symbol\": \"om2:one\"\n",
      "            }\n",
      "          },\n",
      "          \"primaryAccountable\": {\n",
      "            \"id\": \"06AQ1F95G855Y8P61GHC9FAS04\",\n",
      "            \"name\": \"User A\",\n",
      "            \"note\": null,\n",
      "            \"primaryLocation\": {\n",
      "              \"alt\": \"0\",\n",
      "              \"id\": \"06CGBG9MZ50VMHD7C7511H080C\",\n",
      "              \"lat\": \"52.35871773455108\",\n",
      "              \"long\": \"4.916762398221842\",\n",
      "              \"mappableAddress\": \"Oosterpark 9, 1091 AC Amsterdam\",\n",
      "              \"name\": \"OLVG\",\n",
      "              \"note\": \"location.user1.org\"\n",
      "            },\n",
      "            \"type\": \"Person\"\n",
      "          },\n",
      "          \"trackingIdentifier\": \"3D-object-Luffy-7454\",\n",
      "          \"type\": \"EconomicResource\"\n",
      "        },\n",
      "        \"resourceQuantity\": {\n",
      "          \"hasNumericalValue\": \"1\",\n",
      "          \"hasUnit\": {\n",
      "            \"id\": \"06CGBGEHZ8PAWS3P1T9ZQBV4P4\",\n",
      "            \"label\": \"u_piece\",\n",
      "            \"symbol\": \"om2:one\"\n",
      "          }\n",
      "        },\n",
      "        \"toLocation\": {\n",
      "          \"alt\": \"0\",\n",
      "          \"id\": \"06CGBG9MZ50VMHD7C7511H080C\",\n",
      "          \"lat\": \"52.35871773455108\",\n",
      "          \"long\": \"4.916762398221842\",\n",
      "          \"mappableAddress\": \"Oosterpark 9, 1091 AC Amsterdam\",\n",
      "          \"name\": \"OLVG\",\n",
      "          \"note\": \"location.user1.org\"\n",
      "        },\n",
      "        \"toResourceInventoriedAs\": null,\n",
      "        \"triggeredBy\": null,\n",
      "        \"type\": \"EconomicEvent\",\n",
      "        \"name\": \"produce\",\n",
      "        \"children\": [\n",
      "          {\n",
      "            \"basedOn\": null,\n",
      "            \"classifiedAs\": null,\n",
      "            \"deletable\": false,\n",
      "            \"finished\": false,\n",
      "            \"groupedIn\": null,\n",
      "            \"hasBeginning\": \"2025-09-01T15:24:58.712235Z\",\n",
      "            \"hasEnd\": \"2025-09-01T15:24:58.712235Z\",\n",
      "            \"id\": \"06CGBRD901T2934G6M8S8XWBAM\",\n",
      "            \"name\": \"Create_3D_object_Luffy\",\n",
      "            \"nestedIn\": null,\n",
      "            \"note\": \"3D printing process to create object 'Luffy' performed by User A\",\n",
      "            \"plannedWithin\": null,\n",
      "            \"type\": \"Process\",\n",
      "            \"children\": [\n",
      "              {\n",
      "                \"action\": {\n",
      "                  \"id\": \"cite\",\n",
      "                  \"inputOutput\": \"input\",\n",
      "                  \"label\": \"cite\",\n",
      "                  \"onhandEffect\": \"noEffect\",\n",
      "                  \"pairsWith\": \"notApplicable\",\n",
      "                  \"resourceEffect\": \"noEffect\"\n",
      "                },\n",
      "                \"agreedIn\": null,\n",
      "                \"atLocation\": null,\n",
      "                \"effortQuantity\": null,\n",
      "                \"hasBeginning\": null,\n",
      "                \"hasEnd\": null,\n",
      "                \"hasPointInTime\": \"2025-09-01T15:27:45.128054Z\",\n",
      "                \"id\": \"06CGBS1K0K8QFB0ZSB4NPY3BJ4\",\n",
      "                \"inputOf\": {\n",
      "                  \"basedOn\": null,\n",
      "                  \"classifiedAs\": null,\n",
      "                  \"deletable\": false,\n",
      "                  \"finished\": false,\n",
      "                  \"groupedIn\": null,\n",
      "                  \"hasBeginning\": \"2025-09-01T15:24:58.712235Z\",\n",
      "                  \"hasEnd\": \"2025-09-01T15:24:58.712235Z\",\n",
      "                  \"id\": \"06CGBRD901T2934G6M8S8XWBAM\",\n",
      "                  \"name\": \"Create_3D_object_Luffy\",\n",
      "                  \"nestedIn\": null,\n",
      "                  \"note\": \"3D printing process to create object 'Luffy' performed by User A\",\n",
      "                  \"plannedWithin\": null,\n",
      "                  \"type\": \"Process\"\n",
      "                },\n",
      "                \"note\": \"cite 3D-gcode-file-Luffy\",\n",
      "                \"outputOf\": null,\n",
      "                \"provider\": {\n",
      "                  \"id\": \"06AQ1F95G855Y8P61GHC9FAS04\",\n",
      "                  \"name\": \"User A\",\n",
      "                  \"note\": null,\n",
      "                  \"primaryLocation\": {\n",
      "                    \"alt\": \"0\",\n",
      "                    \"id\": \"06CGBG9MZ50VMHD7C7511H080C\",\n",
      "                    \"lat\": \"52.35871773455108\",\n",
      "                    \"long\": \"4.916762398221842\",\n",
      "                    \"mappableAddress\": \"Oosterpark 9, 1091 AC Amsterdam\",\n",
      "                    \"name\": \"OLVG\",\n",
      "                    \"note\": \"location.user1.org\"\n",
      "                  },\n",
      "                  \"type\": \"Person\"\n",
      "                },\n",
      "                \"realizationOf\": null,\n",
      "                \"receiver\": {\n",
      "                  \"id\": \"06AQ1F95G855Y8P61GHC9FAS04\",\n",
      "                  \"name\": \"User A\",\n",
      "                  \"note\": null,\n",
      "                  \"primaryLocation\": {\n",
      "                    \"alt\": \"0\",\n",
      "                    \"id\": \"06CGBG9MZ50VMHD7C7511H080C\",\n",
      "                    \"lat\": \"52.35871773455108\",\n",
      "                    \"long\": \"4.916762398221842\",\n",
      "                    \"mappableAddress\": \"Oosterpark 9, 1091 AC Amsterdam\",\n",
      "                    \"name\": \"OLVG\",\n",
      "                    \"note\": \"location.user1.org\"\n",
      "                  },\n",
      "                  \"type\": \"Person\"\n",
      "                },\n",
      "                \"resourceClassifiedAs\": null,\n",
      "                \"resourceConformsTo\": null,\n",
      "                \"resourceInventoriedAs\": {\n",
      "                  \"accountingQuantity\": {\n",
      "                    \"hasNumericalValue\": \"1\",\n",
      "                    \"hasUnit\": {\n",
      "                      \"id\": \"06CGBGEHZ8PAWS3P1T9ZQBV4P4\",\n",
      "                      \"label\": \"u_piece\",\n",
      "                      \"symbol\": \"om2:one\"\n",
      "                    }\n",
      "                  },\n",
      "                  \"currentLocation\": {\n",
      "                    \"alt\": \"0\",\n",
      "                    \"id\": \"06CGBG9MZ50VMHD7C7511H080C\",\n",
      "                    \"lat\": \"52.35871773455108\",\n",
      "                    \"long\": \"4.916762398221842\",\n",
      "                    \"mappableAddress\": \"Oosterpark 9, 1091 AC Amsterdam\",\n",
      "                    \"name\": \"OLVG\",\n",
      "                    \"note\": \"location.user1.org\"\n",
      "                  },\n",
      "                  \"custodian\": {\n",
      "                    \"id\": \"06AQ1F95G855Y8P61GHC9FAS04\",\n",
      "                    \"name\": \"User A\",\n",
      "                    \"note\": null,\n",
      "                    \"primaryLocation\": {\n",
      "                      \"alt\": \"0\",\n",
      "                      \"id\": \"06CGBG9MZ50VMHD7C7511H080C\",\n",
      "                      \"lat\": \"52.35871773455108\",\n",
      "                      \"long\": \"4.916762398221842\",\n",
      "                      \"mappableAddress\": \"Oosterpark 9, 1091 AC Amsterdam\",\n",
      "                      \"name\": \"OLVG\",\n",
      "                      \"note\": \"location.user1.org\"\n",
      "                    },\n",
      "                    \"type\": \"Person\"\n",
      "                  },\n",
      "                  \"id\": \"06CGBRCZYQA5JJDRXND1G8F4A0\",\n",
      "                  \"metadata\": null,\n",
      "                  \"name\": \"3D-gcode-file-Luffy\",\n",
      "                  \"onhandQuantity\": {\n",
      "                    \"hasNumericalValue\": \"1\",\n",
      "                    \"hasUnit\": {\n",
      "                      \"id\": \"06CGBGEHZ8PAWS3P1T9ZQBV4P4\",\n",
      "                      \"label\": \"u_piece\",\n",
      "                      \"symbol\": \"om2:one\"\n",
      "                    }\n",
      "                  },\n",
      "                  \"primaryAccountable\": {\n",
      "                    \"id\": \"06AQ1F95G855Y8P61GHC9FAS04\",\n",
      "                    \"name\": \"User A\",\n",
      "                    \"note\": null,\n",
      "                    \"primaryLocation\": {\n",
      "                      \"alt\": \"0\",\n",
      "                      \"id\": \"06CGBG9MZ50VMHD7C7511H080C\",\n",
      "                      \"lat\": \"52.35871773455108\",\n",
      "                      \"long\": \"4.916762398221842\",\n",
      "                      \"mappableAddress\": \"Oosterpark 9, 1091 AC Amsterdam\",\n",
      "                      \"name\": \"OLVG\",\n",
      "                      \"note\": \"location.user1.org\"\n",
      "                    },\n",
      "                    \"type\": \"Person\"\n",
      "                  },\n",
      "                  \"trackingIdentifier\": \"3D-gcode-file-Luffy-6609\",\n",
      "                  \"type\": \"EconomicResource\"\n",
      "                },\n",
      "                \"resourceQuantity\": {\n",
      "                  \"hasNumericalValue\": \"1\",\n",
      "                  \"hasUnit\": {\n",
      "                    \"id\": \"06CGBGEHZ8PAWS3P1T9ZQBV4P4\",\n",
      "                    \"label\": \"u_piece\",\n",
      "                    \"symbol\": \"om2:one\"\n",
      "                  }\n",
      "                },\n",
      "                \"toLocation\": null,\n",
      "                \"toResourceInventoriedAs\": null,\n",
      "                \"triggeredBy\": null,\n",
      "                \"type\": \"EconomicEvent\",\n",
      "                \"name\": \"cite\",\n",
      "                \"children\": [\n",
      "                  {\n",
      "                    \"accountingQuantity\": {\n",
      "                      \"hasNumericalValue\": \"1\",\n",
      "                      \"hasUnit\": {\n",
      "                        \"id\": \"06CGBGEHZ8PAWS3P1T9ZQBV4P4\",\n",
      "                        \"label\": \"u_piece\",\n",
      "                        \"symbol\": \"om2:one\"\n",
      "                      }\n",
      "                    },\n",
      "                    \"currentLocation\": {\n",
      "                      \"alt\": \"0\",\n",
      "                      \"id\": \"06CGBG9MZ50VMHD7C7511H080C\",\n",
      "                      \"lat\": \"52.35871773455108\",\n",
      "                      \"long\": \"4.916762398221842\",\n",
      "                      \"mappableAddress\": \"Oosterpark 9, 1091 AC Amsterdam\",\n",
      "                      \"name\": \"OLVG\",\n",
      "                      \"note\": \"location.user1.org\"\n",
      "                    },\n",
      "                    \"custodian\": {\n",
      "                      \"id\": \"06AQ1F95G855Y8P61GHC9FAS04\",\n",
      "                      \"name\": \"User A\",\n",
      "                      \"note\": null,\n",
      "                      \"primaryLocation\": {\n",
      "                        \"alt\": \"0\",\n",
      "                        \"id\": \"06CGBG9MZ50VMHD7C7511H080C\",\n",
      "                        \"lat\": \"52.35871773455108\",\n",
      "                        \"long\": \"4.916762398221842\",\n",
      "                        \"mappableAddress\": \"Oosterpark 9, 1091 AC Amsterdam\",\n",
      "                        \"name\": \"OLVG\",\n",
      "                        \"note\": \"location.user1.org\"\n",
      "                      },\n",
      "                      \"type\": \"Person\"\n",
      "                    },\n",
      "                    \"id\": \"06CGBRCZYQA5JJDRXND1G8F4A0\",\n",
      "                    \"metadata\": null,\n",
      "                    \"name\": \"3D-gcode-file-Luffy\",\n",
      "                    \"onhandQuantity\": {\n",
      "                      \"hasNumericalValue\": \"1\",\n",
      "                      \"hasUnit\": {\n",
      "                        \"id\": \"06CGBGEHZ8PAWS3P1T9ZQBV4P4\",\n",
      "                        \"label\": \"u_piece\",\n",
      "                        \"symbol\": \"om2:one\"\n",
      "                      }\n",
      "                    },\n",
      "                    \"primaryAccountable\": {\n",
      "                      \"id\": \"06AQ1F95G855Y8P61GHC9FAS04\",\n",
      "                      \"name\": \"User A\",\n",
      "                      \"note\": null,\n",
      "                      \"primaryLocation\": {\n",
      "                        \"alt\": \"0\",\n",
      "                        \"id\": \"06CGBG9MZ50VMHD7C7511H080C\",\n",
      "                        \"lat\": \"52.35871773455108\",\n",
      "                        \"long\": \"4.916762398221842\",\n",
      "                        \"mappableAddress\": \"Oosterpark 9, 1091 AC Amsterdam\",\n",
      "                        \"name\": \"OLVG\",\n",
      "                        \"note\": \"location.user1.org\"\n",
      "                      },\n",
      "                      \"type\": \"Person\"\n",
      "                    },\n",
      "                    \"trackingIdentifier\": \"3D-gcode-file-Luffy-6609\",\n",
      "                    \"type\": \"EconomicResource\",\n",
      "                    \"children\": [\n",
      "                      {\n",
      "                        \"action\": {\n",
      "                          \"id\": \"raise\",\n",
      "                          \"inputOutput\": \"notApplicable\",\n",
      "                          \"label\": \"raise\",\n",
      "                          \"onhandEffect\": \"increment\",\n",
      "                          \"pairsWith\": \"notApplicable\",\n",
      "                          \"resourceEffect\": \"increment\"\n",
      "                        },\n",
      "                        \"agreedIn\": null,\n",
      "                        \"atLocation\": null,\n",
      "                        \"effortQuantity\": null,\n",
      "                        \"hasBeginning\": null,\n",
      "                        \"hasEnd\": null,\n",
      "                        \"hasPointInTime\": \"2025-09-01T15:24:56.432669Z\",\n",
      "                        \"id\": \"06CGBRCZY8DMYKM91QQM5V04NW\",\n",
      "                        \"inputOf\": null,\n",
      "                        \"note\": \"create resource\",\n",
      "                        \"outputOf\": null,\n",
      "                        \"provider\": {\n",
      "                          \"id\": \"06AQ1F95G855Y8P61GHC9FAS04\",\n",
      "                          \"name\": \"User A\",\n",
      "                          \"note\": null,\n",
      "                          \"primaryLocation\": {\n",
      "                            \"alt\": \"0\",\n",
      "                            \"id\": \"06CGBG9MZ50VMHD7C7511H080C\",\n",
      "                            \"lat\": \"52.35871773455108\",\n",
      "                            \"long\": \"4.916762398221842\",\n",
      "                            \"mappableAddress\": \"Oosterpark 9, 1091 AC Amsterdam\",\n",
      "                            \"name\": \"OLVG\",\n",
      "                            \"note\": \"location.user1.org\"\n",
      "                          },\n",
      "                          \"type\": \"Person\"\n",
      "                        },\n",
      "                        \"realizationOf\": null,\n",
      "                        \"receiver\": {\n",
      "                          \"id\": \"06AQ1F95G855Y8P61GHC9FAS04\",\n",
      "                          \"name\": \"User A\",\n",
      "                          \"note\": null,\n",
      "                          \"primaryLocation\": {\n",
      "                            \"alt\": \"0\",\n",
      "                            \"id\": \"06CGBG9MZ50VMHD7C7511H080C\",\n",
      "                            \"lat\": \"52.35871773455108\",\n",
      "                            \"long\": \"4.916762398221842\",\n",
      "                            \"mappableAddress\": \"Oosterpark 9, 1091 AC Amsterdam\",\n",
      "                            \"name\": \"OLVG\",\n",
      "                            \"note\": \"location.user1.org\"\n",
      "                          },\n",
      "                          \"type\": \"Person\"\n",
      "                        },\n",
      "                        \"resourceClassifiedAs\": null,\n",
      "                        \"resourceConformsTo\": {\n",
      "                          \"defaultUnitOfEffort\": null,\n",
      "                          \"defaultUnitOfResource\": {\n",
      "                            \"id\": \"06CGBGEHZ8PAWS3P1T9ZQBV4P4\",\n",
      "                            \"label\": \"u_piece\",\n",
      "                            \"symbol\": \"om2:one\"\n",
      "                          },\n",
      "                          \"id\": \"06CGBH694QRAPS663TT0F9QBFR\",\n",
      "                          \"name\": \"3D-gcode-file-Luffy\",\n",
      "                          \"note\": \"Specification for the 3D printing G-code file for Luffy\",\n",
      "                          \"resourceClassifiedAs\": [\n",
      "                            \"https://www.wikidata.org/wiki/Q1073076\"\n",
      "                          ]\n",
      "                        },\n",
      "                        \"resourceInventoriedAs\": {\n",
      "                          \"accountingQuantity\": {\n",
      "                            \"hasNumericalValue\": \"1\",\n",
      "                            \"hasUnit\": {\n",
      "                              \"id\": \"06CGBGEHZ8PAWS3P1T9ZQBV4P4\",\n",
      "                              \"label\": \"u_piece\",\n",
      "                              \"symbol\": \"om2:one\"\n",
      "                            }\n",
      "                          },\n",
      "                          \"currentLocation\": {\n",
      "                            \"alt\": \"0\",\n",
      "                            \"id\": \"06CGBG9MZ50VMHD7C7511H080C\",\n",
      "                            \"lat\": \"52.35871773455108\",\n",
      "                            \"long\": \"4.916762398221842\",\n",
      "                            \"mappableAddress\": \"Oosterpark 9, 1091 AC Amsterdam\",\n",
      "                            \"name\": \"OLVG\",\n",
      "                            \"note\": \"location.user1.org\"\n",
      "                          },\n",
      "                          \"custodian\": {\n",
      "                            \"id\": \"06AQ1F95G855Y8P61GHC9FAS04\",\n",
      "                            \"name\": \"User A\",\n",
      "                            \"note\": null,\n",
      "                            \"primaryLocation\": {\n",
      "                              \"alt\": \"0\",\n",
      "                              \"id\": \"06CGBG9MZ50VMHD7C7511H080C\",\n",
      "                              \"lat\": \"52.35871773455108\",\n",
      "                              \"long\": \"4.916762398221842\",\n",
      "                              \"mappableAddress\": \"Oosterpark 9, 1091 AC Amsterdam\",\n",
      "                              \"name\": \"OLVG\",\n",
      "                              \"note\": \"location.user1.org\"\n",
      "                            },\n",
      "                            \"type\": \"Person\"\n",
      "                          },\n",
      "                          \"id\": \"06CGBRCZYQA5JJDRXND1G8F4A0\",\n",
      "                          \"metadata\": null,\n",
      "                          \"name\": \"3D-gcode-file-Luffy\",\n",
      "                          \"onhandQuantity\": {\n",
      "                            \"hasNumericalValue\": \"1\",\n",
      "                            \"hasUnit\": {\n",
      "                              \"id\": \"06CGBGEHZ8PAWS3P1T9ZQBV4P4\",\n",
      "                              \"label\": \"u_piece\",\n",
      "                              \"symbol\": \"om2:one\"\n",
      "                            }\n",
      "                          },\n",
      "                          \"primaryAccountable\": {\n",
      "                            \"id\": \"06AQ1F95G855Y8P61GHC9FAS04\",\n",
      "                            \"name\": \"User A\",\n",
      "                            \"note\": null,\n",
      "                            \"primaryLocation\": {\n",
      "                              \"alt\": \"0\",\n",
      "                              \"id\": \"06CGBG9MZ50VMHD7C7511H080C\",\n",
      "                              \"lat\": \"52.35871773455108\",\n",
      "                              \"long\": \"4.916762398221842\",\n",
      "                              \"mappableAddress\": \"Oosterpark 9, 1091 AC Amsterdam\",\n",
      "                              \"name\": \"OLVG\",\n",
      "                              \"note\": \"location.user1.org\"\n",
      "                            },\n",
      "                            \"type\": \"Person\"\n",
      "                          },\n",
      "                          \"trackingIdentifier\": \"3D-gcode-file-Luffy-6609\",\n",
      "                          \"type\": \"EconomicResource\"\n",
      "                        },\n",
      "                        \"resourceQuantity\": {\n",
      "                          \"hasNumericalValue\": \"1\",\n",
      "                          \"hasUnit\": {\n",
      "                            \"id\": \"06CGBGEHZ8PAWS3P1T9ZQBV4P4\",\n",
      "                            \"label\": \"u_piece\",\n",
      "                            \"symbol\": \"om2:one\"\n",
      "                          }\n",
      "                        },\n",
      "                        \"toLocation\": {\n",
      "                          \"alt\": \"0\",\n",
      "                          \"id\": \"06CGBG9MZ50VMHD7C7511H080C\",\n",
      "                          \"lat\": \"52.35871773455108\",\n",
      "                          \"long\": \"4.916762398221842\",\n",
      "                          \"mappableAddress\": \"Oosterpark 9, 1091 AC Amsterdam\",\n",
      "                          \"name\": \"OLVG\",\n",
      "                          \"note\": \"location.user1.org\"\n",
      "                        },\n",
      "                        \"toResourceInventoriedAs\": null,\n",
      "                        \"triggeredBy\": null,\n",
      "                        \"type\": \"EconomicEvent\",\n",
      "                        \"name\": \"raise\",\n",
      "                        \"children\": []\n",
      "                      }\n",
      "                    ]\n",
      "                  }\n",
      "                ]\n",
      "              },\n",
      "              {\n",
      "                \"action\": {\n",
      "                  \"id\": \"consume\",\n",
      "                  \"inputOutput\": \"input\",\n",
      "                  \"label\": \"consume\",\n",
      "                  \"onhandEffect\": \"decrement\",\n",
      "                  \"pairsWith\": \"notApplicable\",\n",
      "                  \"resourceEffect\": \"decrement\"\n",
      "                },\n",
      "                \"agreedIn\": null,\n",
      "                \"atLocation\": null,\n",
      "                \"effortQuantity\": null,\n",
      "                \"hasBeginning\": null,\n",
      "                \"hasEnd\": null,\n",
      "                \"hasPointInTime\": \"2025-09-01T15:27:24.083801Z\",\n",
      "                \"id\": \"06CGBRZ36NHNGK1N0BC74N5S0C\",\n",
      "                \"inputOf\": {\n",
      "                  \"basedOn\": null,\n",
      "                  \"classifiedAs\": null,\n",
      "                  \"deletable\": false,\n",
      "                  \"finished\": false,\n",
      "                  \"groupedIn\": null,\n",
      "                  \"hasBeginning\": \"2025-09-01T15:24:58.712235Z\",\n",
      "                  \"hasEnd\": \"2025-09-01T15:24:58.712235Z\",\n",
      "                  \"id\": \"06CGBRD901T2934G6M8S8XWBAM\",\n",
      "                  \"name\": \"Create_3D_object_Luffy\",\n",
      "                  \"nestedIn\": null,\n",
      "                  \"note\": \"3D printing process to create object 'Luffy' performed by User A\",\n",
      "                  \"plannedWithin\": null,\n",
      "                  \"type\": \"Process\"\n",
      "                },\n",
      "                \"note\": \"consume electrical energy for 3D-object-Luffy\",\n",
      "                \"outputOf\": null,\n",
      "                \"provider\": {\n",
      "                  \"id\": \"06AQ1F95G855Y8P61GHC9FAS04\",\n",
      "                  \"name\": \"User A\",\n",
      "                  \"note\": null,\n",
      "                  \"primaryLocation\": {\n",
      "                    \"alt\": \"0\",\n",
      "                    \"id\": \"06CGBG9MZ50VMHD7C7511H080C\",\n",
      "                    \"lat\": \"52.35871773455108\",\n",
      "                    \"long\": \"4.916762398221842\",\n",
      "                    \"mappableAddress\": \"Oosterpark 9, 1091 AC Amsterdam\",\n",
      "                    \"name\": \"OLVG\",\n",
      "                    \"note\": \"location.user1.org\"\n",
      "                  },\n",
      "                  \"type\": \"Person\"\n",
      "                },\n",
      "                \"realizationOf\": null,\n",
      "                \"receiver\": {\n",
      "                  \"id\": \"06AQ1F95G855Y8P61GHC9FAS04\",\n",
      "                  \"name\": \"User A\",\n",
      "                  \"note\": null,\n",
      "                  \"primaryLocation\": {\n",
      "                    \"alt\": \"0\",\n",
      "                    \"id\": \"06CGBG9MZ50VMHD7C7511H080C\",\n",
      "                    \"lat\": \"52.35871773455108\",\n",
      "                    \"long\": \"4.916762398221842\",\n",
      "                    \"mappableAddress\": \"Oosterpark 9, 1091 AC Amsterdam\",\n",
      "                    \"name\": \"OLVG\",\n",
      "                    \"note\": \"location.user1.org\"\n",
      "                  },\n",
      "                  \"type\": \"Person\"\n",
      "                },\n",
      "                \"resourceClassifiedAs\": null,\n",
      "                \"resourceConformsTo\": null,\n",
      "                \"resourceInventoriedAs\": {\n",
      "                  \"accountingQuantity\": {\n",
      "                    \"hasNumericalValue\": \"500\",\n",
      "                    \"hasUnit\": {\n",
      "                      \"id\": \"06CGBGEPNF5B2KSE6RX4SB6FXM\",\n",
      "                      \"label\": \"Wh\",\n",
      "                      \"symbol\": \"om2:wattHour\"\n",
      "                    }\n",
      "                  },\n",
      "                  \"currentLocation\": {\n",
      "                    \"alt\": \"0\",\n",
      "                    \"id\": \"06CGBG9MZ50VMHD7C7511H080C\",\n",
      "                    \"lat\": \"52.35871773455108\",\n",
      "                    \"long\": \"4.916762398221842\",\n",
      "                    \"mappableAddress\": \"Oosterpark 9, 1091 AC Amsterdam\",\n",
      "                    \"name\": \"OLVG\",\n",
      "                    \"note\": \"location.user1.org\"\n",
      "                  },\n",
      "                  \"custodian\": {\n",
      "                    \"id\": \"06AQ1F95G855Y8P61GHC9FAS04\",\n",
      "                    \"name\": \"User A\",\n",
      "                    \"note\": null,\n",
      "                    \"primaryLocation\": {\n",
      "                      \"alt\": \"0\",\n",
      "                      \"id\": \"06CGBG9MZ50VMHD7C7511H080C\",\n",
      "                      \"lat\": \"52.35871773455108\",\n",
      "                      \"long\": \"4.916762398221842\",\n",
      "                      \"mappableAddress\": \"Oosterpark 9, 1091 AC Amsterdam\",\n",
      "                      \"name\": \"OLVG\",\n",
      "                      \"note\": \"location.user1.org\"\n",
      "                    },\n",
      "                    \"type\": \"Person\"\n",
      "                  },\n",
      "                  \"id\": \"06CGBRCYQWKTP7BZ7JA8EVFXCM\",\n",
      "                  \"metadata\": null,\n",
      "                  \"name\": \"Electrical-Energy\",\n",
      "                  \"onhandQuantity\": {\n",
      "                    \"hasNumericalValue\": \"500\",\n",
      "                    \"hasUnit\": {\n",
      "                      \"id\": \"06CGBGEPNF5B2KSE6RX4SB6FXM\",\n",
      "                      \"label\": \"Wh\",\n",
      "                      \"symbol\": \"om2:wattHour\"\n",
      "                    }\n",
      "                  },\n",
      "                  \"primaryAccountable\": {\n",
      "                    \"id\": \"06AQ1F95G855Y8P61GHC9FAS04\",\n",
      "                    \"name\": \"User A\",\n",
      "                    \"note\": null,\n",
      "                    \"primaryLocation\": {\n",
      "                      \"alt\": \"0\",\n",
      "                      \"id\": \"06CGBG9MZ50VMHD7C7511H080C\",\n",
      "                      \"lat\": \"52.35871773455108\",\n",
      "                      \"long\": \"4.916762398221842\",\n",
      "                      \"mappableAddress\": \"Oosterpark 9, 1091 AC Amsterdam\",\n",
      "                      \"name\": \"OLVG\",\n",
      "                      \"note\": \"location.user1.org\"\n",
      "                    },\n",
      "                    \"type\": \"Person\"\n",
      "                  },\n",
      "                  \"trackingIdentifier\": \"Electrical-Energy-5627\",\n",
      "                  \"type\": \"EconomicResource\"\n",
      "                },\n",
      "                \"resourceQuantity\": {\n",
      "                  \"hasNumericalValue\": \"500\",\n",
      "                  \"hasUnit\": {\n",
      "                    \"id\": \"06CGBGEPNF5B2KSE6RX4SB6FXM\",\n",
      "                    \"label\": \"Wh\",\n",
      "                    \"symbol\": \"om2:wattHour\"\n",
      "                  }\n",
      "                },\n",
      "                \"toLocation\": null,\n",
      "                \"toResourceInventoriedAs\": null,\n",
      "                \"triggeredBy\": null,\n",
      "                \"type\": \"EconomicEvent\",\n",
      "                \"name\": \"consume\",\n",
      "                \"children\": [\n",
      "                  {\n",
      "                    \"accountingQuantity\": {\n",
      "                      \"hasNumericalValue\": \"500\",\n",
      "                      \"hasUnit\": {\n",
      "                        \"id\": \"06CGBGEPNF5B2KSE6RX4SB6FXM\",\n",
      "                        \"label\": \"Wh\",\n",
      "                        \"symbol\": \"om2:wattHour\"\n",
      "                      }\n",
      "                    },\n",
      "                    \"currentLocation\": {\n",
      "                      \"alt\": \"0\",\n",
      "                      \"id\": \"06CGBG9MZ50VMHD7C7511H080C\",\n",
      "                      \"lat\": \"52.35871773455108\",\n",
      "                      \"long\": \"4.916762398221842\",\n",
      "                      \"mappableAddress\": \"Oosterpark 9, 1091 AC Amsterdam\",\n",
      "                      \"name\": \"OLVG\",\n",
      "                      \"note\": \"location.user1.org\"\n",
      "                    },\n",
      "                    \"custodian\": {\n",
      "                      \"id\": \"06AQ1F95G855Y8P61GHC9FAS04\",\n",
      "                      \"name\": \"User A\",\n",
      "                      \"note\": null,\n",
      "                      \"primaryLocation\": {\n",
      "                        \"alt\": \"0\",\n",
      "                        \"id\": \"06CGBG9MZ50VMHD7C7511H080C\",\n",
      "                        \"lat\": \"52.35871773455108\",\n",
      "                        \"long\": \"4.916762398221842\",\n",
      "                        \"mappableAddress\": \"Oosterpark 9, 1091 AC Amsterdam\",\n",
      "                        \"name\": \"OLVG\",\n",
      "                        \"note\": \"location.user1.org\"\n",
      "                      },\n",
      "                      \"type\": \"Person\"\n",
      "                    },\n",
      "                    \"id\": \"06CGBRCYQWKTP7BZ7JA8EVFXCM\",\n",
      "                    \"metadata\": null,\n",
      "                    \"name\": \"Electrical-Energy\",\n",
      "                    \"onhandQuantity\": {\n",
      "                      \"hasNumericalValue\": \"500\",\n",
      "                      \"hasUnit\": {\n",
      "                        \"id\": \"06CGBGEPNF5B2KSE6RX4SB6FXM\",\n",
      "                        \"label\": \"Wh\",\n",
      "                        \"symbol\": \"om2:wattHour\"\n",
      "                      }\n",
      "                    },\n",
      "                    \"primaryAccountable\": {\n",
      "                      \"id\": \"06AQ1F95G855Y8P61GHC9FAS04\",\n",
      "                      \"name\": \"User A\",\n",
      "                      \"note\": null,\n",
      "                      \"primaryLocation\": {\n",
      "                        \"alt\": \"0\",\n",
      "                        \"id\": \"06CGBG9MZ50VMHD7C7511H080C\",\n",
      "                        \"lat\": \"52.35871773455108\",\n",
      "                        \"long\": \"4.916762398221842\",\n",
      "                        \"mappableAddress\": \"Oosterpark 9, 1091 AC Amsterdam\",\n",
      "                        \"name\": \"OLVG\",\n",
      "                        \"note\": \"location.user1.org\"\n",
      "                      },\n",
      "                      \"type\": \"Person\"\n",
      "                    },\n",
      "                    \"trackingIdentifier\": \"Electrical-Energy-5627\",\n",
      "                    \"type\": \"EconomicResource\",\n",
      "                    \"children\": [\n",
      "                      {\n",
      "                        \"action\": {\n",
      "                          \"id\": \"raise\",\n",
      "                          \"inputOutput\": \"notApplicable\",\n",
      "                          \"label\": \"raise\",\n",
      "                          \"onhandEffect\": \"increment\",\n",
      "                          \"pairsWith\": \"notApplicable\",\n",
      "                          \"resourceEffect\": \"increment\"\n",
      "                        },\n",
      "                        \"agreedIn\": null,\n",
      "                        \"atLocation\": null,\n",
      "                        \"effortQuantity\": null,\n",
      "                        \"hasBeginning\": null,\n",
      "                        \"hasEnd\": null,\n",
      "                        \"hasPointInTime\": \"2025-09-01T15:24:56.103938Z\",\n",
      "                        \"id\": \"06CGBRCYQHZ0XDRDQ5ZTGK7NZW\",\n",
      "                        \"inputOf\": null,\n",
      "                        \"note\": \"create resource\",\n",
      "                        \"outputOf\": null,\n",
      "                        \"provider\": {\n",
      "                          \"id\": \"06AQ1F95G855Y8P61GHC9FAS04\",\n",
      "                          \"name\": \"User A\",\n",
      "                          \"note\": null,\n",
      "                          \"primaryLocation\": {\n",
      "                            \"alt\": \"0\",\n",
      "                            \"id\": \"06CGBG9MZ50VMHD7C7511H080C\",\n",
      "                            \"lat\": \"52.35871773455108\",\n",
      "                            \"long\": \"4.916762398221842\",\n",
      "                            \"mappableAddress\": \"Oosterpark 9, 1091 AC Amsterdam\",\n",
      "                            \"name\": \"OLVG\",\n",
      "                            \"note\": \"location.user1.org\"\n",
      "                          },\n",
      "                          \"type\": \"Person\"\n",
      "                        },\n",
      "                        \"realizationOf\": null,\n",
      "                        \"receiver\": {\n",
      "                          \"id\": \"06AQ1F95G855Y8P61GHC9FAS04\",\n",
      "                          \"name\": \"User A\",\n",
      "                          \"note\": null,\n",
      "                          \"primaryLocation\": {\n",
      "                            \"alt\": \"0\",\n",
      "                            \"id\": \"06CGBG9MZ50VMHD7C7511H080C\",\n",
      "                            \"lat\": \"52.35871773455108\",\n",
      "                            \"long\": \"4.916762398221842\",\n",
      "                            \"mappableAddress\": \"Oosterpark 9, 1091 AC Amsterdam\",\n",
      "                            \"name\": \"OLVG\",\n",
      "                            \"note\": \"location.user1.org\"\n",
      "                          },\n",
      "                          \"type\": \"Person\"\n",
      "                        },\n",
      "                        \"resourceClassifiedAs\": null,\n",
      "                        \"resourceConformsTo\": {\n",
      "                          \"defaultUnitOfEffort\": null,\n",
      "                          \"defaultUnitOfResource\": {\n",
      "                            \"id\": \"06CGBGEPNF5B2KSE6RX4SB6FXM\",\n",
      "                            \"label\": \"Wh\",\n",
      "                            \"symbol\": \"om2:wattHour\"\n",
      "                          },\n",
      "                          \"id\": \"06CGBH66WK8HSBZTYCRY407STC\",\n",
      "                          \"name\": \"Electrical-Energy\",\n",
      "                          \"note\": \"Specification for electrical energy consumed during 3D printing\",\n",
      "                          \"resourceClassifiedAs\": [\n",
      "                            \"https://www.wikidata.org/wiki/Q6837\"\n",
      "                          ]\n",
      "                        },\n",
      "                        \"resourceInventoriedAs\": {\n",
      "                          \"accountingQuantity\": {\n",
      "                            \"hasNumericalValue\": \"500\",\n",
      "                            \"hasUnit\": {\n",
      "                              \"id\": \"06CGBGEPNF5B2KSE6RX4SB6FXM\",\n",
      "                              \"label\": \"Wh\",\n",
      "                              \"symbol\": \"om2:wattHour\"\n",
      "                            }\n",
      "                          },\n",
      "                          \"currentLocation\": {\n",
      "                            \"alt\": \"0\",\n",
      "                            \"id\": \"06CGBG9MZ50VMHD7C7511H080C\",\n",
      "                            \"lat\": \"52.35871773455108\",\n",
      "                            \"long\": \"4.916762398221842\",\n",
      "                            \"mappableAddress\": \"Oosterpark 9, 1091 AC Amsterdam\",\n",
      "                            \"name\": \"OLVG\",\n",
      "                            \"note\": \"location.user1.org\"\n",
      "                          },\n",
      "                          \"custodian\": {\n",
      "                            \"id\": \"06AQ1F95G855Y8P61GHC9FAS04\",\n",
      "                            \"name\": \"User A\",\n",
      "                            \"note\": null,\n",
      "                            \"primaryLocation\": {\n",
      "                              \"alt\": \"0\",\n",
      "                              \"id\": \"06CGBG9MZ50VMHD7C7511H080C\",\n",
      "                              \"lat\": \"52.35871773455108\",\n",
      "                              \"long\": \"4.916762398221842\",\n",
      "                              \"mappableAddress\": \"Oosterpark 9, 1091 AC Amsterdam\",\n",
      "                              \"name\": \"OLVG\",\n",
      "                              \"note\": \"location.user1.org\"\n",
      "                            },\n",
      "                            \"type\": \"Person\"\n",
      "                          },\n",
      "                          \"id\": \"06CGBRCYQWKTP7BZ7JA8EVFXCM\",\n",
      "                          \"metadata\": null,\n",
      "                          \"name\": \"Electrical-Energy\",\n",
      "                          \"onhandQuantity\": {\n",
      "                            \"hasNumericalValue\": \"500\",\n",
      "                            \"hasUnit\": {\n",
      "                              \"id\": \"06CGBGEPNF5B2KSE6RX4SB6FXM\",\n",
      "                              \"label\": \"Wh\",\n",
      "                              \"symbol\": \"om2:wattHour\"\n",
      "                            }\n",
      "                          },\n",
      "                          \"primaryAccountable\": {\n",
      "                            \"id\": \"06AQ1F95G855Y8P61GHC9FAS04\",\n",
      "                            \"name\": \"User A\",\n",
      "                            \"note\": null,\n",
      "                            \"primaryLocation\": {\n",
      "                              \"alt\": \"0\",\n",
      "                              \"id\": \"06CGBG9MZ50VMHD7C7511H080C\",\n",
      "                              \"lat\": \"52.35871773455108\",\n",
      "                              \"long\": \"4.916762398221842\",\n",
      "                              \"mappableAddress\": \"Oosterpark 9, 1091 AC Amsterdam\",\n",
      "                              \"name\": \"OLVG\",\n",
      "                              \"note\": \"location.user1.org\"\n",
      "                            },\n",
      "                            \"type\": \"Person\"\n",
      "                          },\n",
      "                          \"trackingIdentifier\": \"Electrical-Energy-5627\",\n",
      "                          \"type\": \"EconomicResource\"\n",
      "                        },\n",
      "                        \"resourceQuantity\": {\n",
      "                          \"hasNumericalValue\": \"1000\",\n",
      "                          \"hasUnit\": {\n",
      "                            \"id\": \"06CGBGEPNF5B2KSE6RX4SB6FXM\",\n",
      "                            \"label\": \"Wh\",\n",
      "                            \"symbol\": \"om2:wattHour\"\n",
      "                          }\n",
      "                        },\n",
      "                        \"toLocation\": {\n",
      "                          \"alt\": \"0\",\n",
      "                          \"id\": \"06CGBG9MZ50VMHD7C7511H080C\",\n",
      "                          \"lat\": \"52.35871773455108\",\n",
      "                          \"long\": \"4.916762398221842\",\n",
      "                          \"mappableAddress\": \"Oosterpark 9, 1091 AC Amsterdam\",\n",
      "                          \"name\": \"OLVG\",\n",
      "                          \"note\": \"location.user1.org\"\n",
      "                        },\n",
      "                        \"toResourceInventoriedAs\": null,\n",
      "                        \"triggeredBy\": null,\n",
      "                        \"type\": \"EconomicEvent\",\n",
      "                        \"name\": \"raise\",\n",
      "                        \"children\": []\n",
      "                      }\n",
      "                    ]\n",
      "                  }\n",
      "                ]\n",
      "              },\n",
      "              {\n",
      "                \"action\": {\n",
      "                  \"id\": \"consume\",\n",
      "                  \"inputOutput\": \"input\",\n",
      "                  \"label\": \"consume\",\n",
      "                  \"onhandEffect\": \"decrement\",\n",
      "                  \"pairsWith\": \"notApplicable\",\n",
      "                  \"resourceEffect\": \"decrement\"\n",
      "                },\n",
      "                \"agreedIn\": null,\n",
      "                \"atLocation\": null,\n",
      "                \"effortQuantity\": null,\n",
      "                \"hasBeginning\": null,\n",
      "                \"hasEnd\": null,\n",
      "                \"hasPointInTime\": \"2025-09-01T15:25:00.688687Z\",\n",
      "                \"id\": \"06CGBRDGMRM9Z2Q87F77X00Y9R\",\n",
      "                \"inputOf\": {\n",
      "                  \"basedOn\": null,\n",
      "                  \"classifiedAs\": null,\n",
      "                  \"deletable\": false,\n",
      "                  \"finished\": false,\n",
      "                  \"groupedIn\": null,\n",
      "                  \"hasBeginning\": \"2025-09-01T15:24:58.712235Z\",\n",
      "                  \"hasEnd\": \"2025-09-01T15:24:58.712235Z\",\n",
      "                  \"id\": \"06CGBRD901T2934G6M8S8XWBAM\",\n",
      "                  \"name\": \"Create_3D_object_Luffy\",\n",
      "                  \"nestedIn\": null,\n",
      "                  \"note\": \"3D printing process to create object 'Luffy' performed by User A\",\n",
      "                  \"plannedWithin\": null,\n",
      "                  \"type\": \"Process\"\n",
      "                },\n",
      "                \"note\": \"consume filament for 3D-object-Luffy\",\n",
      "                \"outputOf\": null,\n",
      "                \"provider\": {\n",
      "                  \"id\": \"06AQ1F95G855Y8P61GHC9FAS04\",\n",
      "                  \"name\": \"User A\",\n",
      "                  \"note\": null,\n",
      "                  \"primaryLocation\": {\n",
      "                    \"alt\": \"0\",\n",
      "                    \"id\": \"06CGBG9MZ50VMHD7C7511H080C\",\n",
      "                    \"lat\": \"52.35871773455108\",\n",
      "                    \"long\": \"4.916762398221842\",\n",
      "                    \"mappableAddress\": \"Oosterpark 9, 1091 AC Amsterdam\",\n",
      "                    \"name\": \"OLVG\",\n",
      "                    \"note\": \"location.user1.org\"\n",
      "                  },\n",
      "                  \"type\": \"Person\"\n",
      "                },\n",
      "                \"realizationOf\": null,\n",
      "                \"receiver\": {\n",
      "                  \"id\": \"06AQ1F95G855Y8P61GHC9FAS04\",\n",
      "                  \"name\": \"User A\",\n",
      "                  \"note\": null,\n",
      "                  \"primaryLocation\": {\n",
      "                    \"alt\": \"0\",\n",
      "                    \"id\": \"06CGBG9MZ50VMHD7C7511H080C\",\n",
      "                    \"lat\": \"52.35871773455108\",\n",
      "                    \"long\": \"4.916762398221842\",\n",
      "                    \"mappableAddress\": \"Oosterpark 9, 1091 AC Amsterdam\",\n",
      "                    \"name\": \"OLVG\",\n",
      "                    \"note\": \"location.user1.org\"\n",
      "                  },\n",
      "                  \"type\": \"Person\"\n",
      "                },\n",
      "                \"resourceClassifiedAs\": null,\n",
      "                \"resourceConformsTo\": null,\n",
      "                \"resourceInventoriedAs\": {\n",
      "                  \"accountingQuantity\": {\n",
      "                    \"hasNumericalValue\": \"-49\",\n",
      "                    \"hasUnit\": {\n",
      "                      \"id\": \"06CGBGEK7YDQMQBFMRY05T14WR\",\n",
      "                      \"label\": \"kg\",\n",
      "                      \"symbol\": \"om2:kilogram\"\n",
      "                    }\n",
      "                  },\n",
      "                  \"currentLocation\": {\n",
      "                    \"alt\": \"0\",\n",
      "                    \"id\": \"06CGBG9MZ50VMHD7C7511H080C\",\n",
      "                    \"lat\": \"52.35871773455108\",\n",
      "                    \"long\": \"4.916762398221842\",\n",
      "                    \"mappableAddress\": \"Oosterpark 9, 1091 AC Amsterdam\",\n",
      "                    \"name\": \"OLVG\",\n",
      "                    \"note\": \"location.user1.org\"\n",
      "                  },\n",
      "                  \"custodian\": {\n",
      "                    \"id\": \"06AQ1F95G855Y8P61GHC9FAS04\",\n",
      "                    \"name\": \"User A\",\n",
      "                    \"note\": null,\n",
      "                    \"primaryLocation\": {\n",
      "                      \"alt\": \"0\",\n",
      "                      \"id\": \"06CGBG9MZ50VMHD7C7511H080C\",\n",
      "                      \"lat\": \"52.35871773455108\",\n",
      "                      \"long\": \"4.916762398221842\",\n",
      "                      \"mappableAddress\": \"Oosterpark 9, 1091 AC Amsterdam\",\n",
      "                      \"name\": \"OLVG\",\n",
      "                      \"note\": \"location.user1.org\"\n",
      "                    },\n",
      "                    \"type\": \"Person\"\n",
      "                  },\n",
      "                  \"id\": \"06CGBRCXEYKZWVVT0WQYNKFFJR\",\n",
      "                  \"metadata\": null,\n",
      "                  \"name\": \"Filament\",\n",
      "                  \"onhandQuantity\": {\n",
      "                    \"hasNumericalValue\": \"-49\",\n",
      "                    \"hasUnit\": {\n",
      "                      \"id\": \"06CGBGEK7YDQMQBFMRY05T14WR\",\n",
      "                      \"label\": \"kg\",\n",
      "                      \"symbol\": \"om2:kilogram\"\n",
      "                    }\n",
      "                  },\n",
      "                  \"primaryAccountable\": {\n",
      "                    \"id\": \"06AQ1F95G855Y8P61GHC9FAS04\",\n",
      "                    \"name\": \"User A\",\n",
      "                    \"note\": null,\n",
      "                    \"primaryLocation\": {\n",
      "                      \"alt\": \"0\",\n",
      "                      \"id\": \"06CGBG9MZ50VMHD7C7511H080C\",\n",
      "                      \"lat\": \"52.35871773455108\",\n",
      "                      \"long\": \"4.916762398221842\",\n",
      "                      \"mappableAddress\": \"Oosterpark 9, 1091 AC Amsterdam\",\n",
      "                      \"name\": \"OLVG\",\n",
      "                      \"note\": \"location.user1.org\"\n",
      "                    },\n",
      "                    \"type\": \"Person\"\n",
      "                  },\n",
      "                  \"trackingIdentifier\": \"Filament-6764\",\n",
      "                  \"type\": \"EconomicResource\"\n",
      "                },\n",
      "                \"resourceQuantity\": {\n",
      "                  \"hasNumericalValue\": \"50\",\n",
      "                  \"hasUnit\": {\n",
      "                    \"id\": \"06CGBGEK7YDQMQBFMRY05T14WR\",\n",
      "                    \"label\": \"kg\",\n",
      "                    \"symbol\": \"om2:kilogram\"\n",
      "                  }\n",
      "                },\n",
      "                \"toLocation\": null,\n",
      "                \"toResourceInventoriedAs\": null,\n",
      "                \"triggeredBy\": null,\n",
      "                \"type\": \"EconomicEvent\",\n",
      "                \"name\": \"consume\",\n",
      "                \"children\": [\n",
      "                  {\n",
      "                    \"accountingQuantity\": {\n",
      "                      \"hasNumericalValue\": \"-49\",\n",
      "                      \"hasUnit\": {\n",
      "                        \"id\": \"06CGBGEK7YDQMQBFMRY05T14WR\",\n",
      "                        \"label\": \"kg\",\n",
      "                        \"symbol\": \"om2:kilogram\"\n",
      "                      }\n",
      "                    },\n",
      "                    \"currentLocation\": {\n",
      "                      \"alt\": \"0\",\n",
      "                      \"id\": \"06CGBG9MZ50VMHD7C7511H080C\",\n",
      "                      \"lat\": \"52.35871773455108\",\n",
      "                      \"long\": \"4.916762398221842\",\n",
      "                      \"mappableAddress\": \"Oosterpark 9, 1091 AC Amsterdam\",\n",
      "                      \"name\": \"OLVG\",\n",
      "                      \"note\": \"location.user1.org\"\n",
      "                    },\n",
      "                    \"custodian\": {\n",
      "                      \"id\": \"06AQ1F95G855Y8P61GHC9FAS04\",\n",
      "                      \"name\": \"User A\",\n",
      "                      \"note\": null,\n",
      "                      \"primaryLocation\": {\n",
      "                        \"alt\": \"0\",\n",
      "                        \"id\": \"06CGBG9MZ50VMHD7C7511H080C\",\n",
      "                        \"lat\": \"52.35871773455108\",\n",
      "                        \"long\": \"4.916762398221842\",\n",
      "                        \"mappableAddress\": \"Oosterpark 9, 1091 AC Amsterdam\",\n",
      "                        \"name\": \"OLVG\",\n",
      "                        \"note\": \"location.user1.org\"\n",
      "                      },\n",
      "                      \"type\": \"Person\"\n",
      "                    },\n",
      "                    \"id\": \"06CGBRCXEYKZWVVT0WQYNKFFJR\",\n",
      "                    \"metadata\": null,\n",
      "                    \"name\": \"Filament\",\n",
      "                    \"onhandQuantity\": {\n",
      "                      \"hasNumericalValue\": \"-49\",\n",
      "                      \"hasUnit\": {\n",
      "                        \"id\": \"06CGBGEK7YDQMQBFMRY05T14WR\",\n",
      "                        \"label\": \"kg\",\n",
      "                        \"symbol\": \"om2:kilogram\"\n",
      "                      }\n",
      "                    },\n",
      "                    \"primaryAccountable\": {\n",
      "                      \"id\": \"06AQ1F95G855Y8P61GHC9FAS04\",\n",
      "                      \"name\": \"User A\",\n",
      "                      \"note\": null,\n",
      "                      \"primaryLocation\": {\n",
      "                        \"alt\": \"0\",\n",
      "                        \"id\": \"06CGBG9MZ50VMHD7C7511H080C\",\n",
      "                        \"lat\": \"52.35871773455108\",\n",
      "                        \"long\": \"4.916762398221842\",\n",
      "                        \"mappableAddress\": \"Oosterpark 9, 1091 AC Amsterdam\",\n",
      "                        \"name\": \"OLVG\",\n",
      "                        \"note\": \"location.user1.org\"\n",
      "                      },\n",
      "                      \"type\": \"Person\"\n",
      "                    },\n",
      "                    \"trackingIdentifier\": \"Filament-6764\",\n",
      "                    \"type\": \"EconomicResource\",\n",
      "                    \"children\": [\n",
      "                      {\n",
      "                        \"action\": {\n",
      "                          \"id\": \"raise\",\n",
      "                          \"inputOutput\": \"notApplicable\",\n",
      "                          \"label\": \"raise\",\n",
      "                          \"onhandEffect\": \"increment\",\n",
      "                          \"pairsWith\": \"notApplicable\",\n",
      "                          \"resourceEffect\": \"increment\"\n",
      "                        },\n",
      "                        \"agreedIn\": null,\n",
      "                        \"atLocation\": null,\n",
      "                        \"effortQuantity\": null,\n",
      "                        \"hasBeginning\": null,\n",
      "                        \"hasEnd\": null,\n",
      "                        \"hasPointInTime\": \"2025-09-01T15:24:55.779620Z\",\n",
      "                        \"id\": \"06CGBRCXEGEPFJRNEH9ETCRVA0\",\n",
      "                        \"inputOf\": null,\n",
      "                        \"note\": \"create resource\",\n",
      "                        \"outputOf\": null,\n",
      "                        \"provider\": {\n",
      "                          \"id\": \"06AQ1F95G855Y8P61GHC9FAS04\",\n",
      "                          \"name\": \"User A\",\n",
      "                          \"note\": null,\n",
      "                          \"primaryLocation\": {\n",
      "                            \"alt\": \"0\",\n",
      "                            \"id\": \"06CGBG9MZ50VMHD7C7511H080C\",\n",
      "                            \"lat\": \"52.35871773455108\",\n",
      "                            \"long\": \"4.916762398221842\",\n",
      "                            \"mappableAddress\": \"Oosterpark 9, 1091 AC Amsterdam\",\n",
      "                            \"name\": \"OLVG\",\n",
      "                            \"note\": \"location.user1.org\"\n",
      "                          },\n",
      "                          \"type\": \"Person\"\n",
      "                        },\n",
      "                        \"realizationOf\": null,\n",
      "                        \"receiver\": {\n",
      "                          \"id\": \"06AQ1F95G855Y8P61GHC9FAS04\",\n",
      "                          \"name\": \"User A\",\n",
      "                          \"note\": null,\n",
      "                          \"primaryLocation\": {\n",
      "                            \"alt\": \"0\",\n",
      "                            \"id\": \"06CGBG9MZ50VMHD7C7511H080C\",\n",
      "                            \"lat\": \"52.35871773455108\",\n",
      "                            \"long\": \"4.916762398221842\",\n",
      "                            \"mappableAddress\": \"Oosterpark 9, 1091 AC Amsterdam\",\n",
      "                            \"name\": \"OLVG\",\n",
      "                            \"note\": \"location.user1.org\"\n",
      "                          },\n",
      "                          \"type\": \"Person\"\n",
      "                        },\n",
      "                        \"resourceClassifiedAs\": null,\n",
      "                        \"resourceConformsTo\": {\n",
      "                          \"defaultUnitOfEffort\": null,\n",
      "                          \"defaultUnitOfResource\": {\n",
      "                            \"id\": \"06CGBGEK7YDQMQBFMRY05T14WR\",\n",
      "                            \"label\": \"kg\",\n",
      "                            \"symbol\": \"om2:kilogram\"\n",
      "                          },\n",
      "                          \"id\": \"06CGBH65NNCND350GCH9TFME3R\",\n",
      "                          \"name\": \"Filament\",\n",
      "                          \"note\": \"Specification for 3D printing filament material\",\n",
      "                          \"resourceClassifiedAs\": [\n",
      "                            \"https://www.wikidata.org/wiki/Q11782\"\n",
      "                          ]\n",
      "                        },\n",
      "                        \"resourceInventoriedAs\": {\n",
      "                          \"accountingQuantity\": {\n",
      "                            \"hasNumericalValue\": \"-49\",\n",
      "                            \"hasUnit\": {\n",
      "                              \"id\": \"06CGBGEK7YDQMQBFMRY05T14WR\",\n",
      "                              \"label\": \"kg\",\n",
      "                              \"symbol\": \"om2:kilogram\"\n",
      "                            }\n",
      "                          },\n",
      "                          \"currentLocation\": {\n",
      "                            \"alt\": \"0\",\n",
      "                            \"id\": \"06CGBG9MZ50VMHD7C7511H080C\",\n",
      "                            \"lat\": \"52.35871773455108\",\n",
      "                            \"long\": \"4.916762398221842\",\n",
      "                            \"mappableAddress\": \"Oosterpark 9, 1091 AC Amsterdam\",\n",
      "                            \"name\": \"OLVG\",\n",
      "                            \"note\": \"location.user1.org\"\n",
      "                          },\n",
      "                          \"custodian\": {\n",
      "                            \"id\": \"06AQ1F95G855Y8P61GHC9FAS04\",\n",
      "                            \"name\": \"User A\",\n",
      "                            \"note\": null,\n",
      "                            \"primaryLocation\": {\n",
      "                              \"alt\": \"0\",\n",
      "                              \"id\": \"06CGBG9MZ50VMHD7C7511H080C\",\n",
      "                              \"lat\": \"52.35871773455108\",\n",
      "                              \"long\": \"4.916762398221842\",\n",
      "                              \"mappableAddress\": \"Oosterpark 9, 1091 AC Amsterdam\",\n",
      "                              \"name\": \"OLVG\",\n",
      "                              \"note\": \"location.user1.org\"\n",
      "                            },\n",
      "                            \"type\": \"Person\"\n",
      "                          },\n",
      "                          \"id\": \"06CGBRCXEYKZWVVT0WQYNKFFJR\",\n",
      "                          \"metadata\": null,\n",
      "                          \"name\": \"Filament\",\n",
      "                          \"onhandQuantity\": {\n",
      "                            \"hasNumericalValue\": \"-49\",\n",
      "                            \"hasUnit\": {\n",
      "                              \"id\": \"06CGBGEK7YDQMQBFMRY05T14WR\",\n",
      "                              \"label\": \"kg\",\n",
      "                              \"symbol\": \"om2:kilogram\"\n",
      "                            }\n",
      "                          },\n",
      "                          \"primaryAccountable\": {\n",
      "                            \"id\": \"06AQ1F95G855Y8P61GHC9FAS04\",\n",
      "                            \"name\": \"User A\",\n",
      "                            \"note\": null,\n",
      "                            \"primaryLocation\": {\n",
      "                              \"alt\": \"0\",\n",
      "                              \"id\": \"06CGBG9MZ50VMHD7C7511H080C\",\n",
      "                              \"lat\": \"52.35871773455108\",\n",
      "                              \"long\": \"4.916762398221842\",\n",
      "                              \"mappableAddress\": \"Oosterpark 9, 1091 AC Amsterdam\",\n",
      "                              \"name\": \"OLVG\",\n",
      "                              \"note\": \"location.user1.org\"\n",
      "                            },\n",
      "                            \"type\": \"Person\"\n",
      "                          },\n",
      "                          \"trackingIdentifier\": \"Filament-6764\",\n",
      "                          \"type\": \"EconomicResource\"\n",
      "                        },\n",
      "                        \"resourceQuantity\": {\n",
      "                          \"hasNumericalValue\": \"1\",\n",
      "                          \"hasUnit\": {\n",
      "                            \"id\": \"06CGBGEK7YDQMQBFMRY05T14WR\",\n",
      "                            \"label\": \"kg\",\n",
      "                            \"symbol\": \"om2:kilogram\"\n",
      "                          }\n",
      "                        },\n",
      "                        \"toLocation\": {\n",
      "                          \"alt\": \"0\",\n",
      "                          \"id\": \"06CGBG9MZ50VMHD7C7511H080C\",\n",
      "                          \"lat\": \"52.35871773455108\",\n",
      "                          \"long\": \"4.916762398221842\",\n",
      "                          \"mappableAddress\": \"Oosterpark 9, 1091 AC Amsterdam\",\n",
      "                          \"name\": \"OLVG\",\n",
      "                          \"note\": \"location.user1.org\"\n",
      "                        },\n",
      "                        \"toResourceInventoriedAs\": null,\n",
      "                        \"triggeredBy\": null,\n",
      "                        \"type\": \"EconomicEvent\",\n",
      "                        \"name\": \"raise\",\n",
      "                        \"children\": []\n",
      "                      }\n",
      "                    ]\n",
      "                  }\n",
      "                ]\n",
      "              }\n",
      "            ]\n",
      "          }\n",
      "        ]\n",
      "      }\n",
      "    ]\n",
      "  }\n",
      "]\n",
      "{'06CGBRCXEGEPFJRNEH9ETCRVA0', '06CGBRDGMRM9Z2Q87F77X00Y9R', '06CGBRDC8ZG77VB7FT4W9050V8', '06CGBRCZY8DMYKM91QQM5V04NW', '06CGBS1K0K8QFB0ZSB4NPY3BJ4', '06CGBRZ36NHNGK1N0BC74N5S0C', '06CGBRCYQHZ0XDRDQ5ZTGK7NZW', '06CGBRD901T2934G6M8S8XWBAM'}\n"
     ]
    }
   ],
   "source": [
    "# Trace the 3D object “Luffy”\n",
    "trace_me = res_data['3D-object-Luffy']['id']\n",
    "print(f\"Resource to be traced: {trace_me}\")\n",
    "\n",
    "tot_dpp = []\n",
    "visited = set()\n",
    "\n",
    "# Trace all related events and processes for this resource\n",
    "er_before(trace_me, users_data['A'], dpp_children=tot_dpp, depth=0, visited=visited, endpoint=ENDPOINT)\n",
    "\n",
    "# Serializing to JSON\n",
    "json_object = json.dumps(tot_dpp, indent=2)\n",
    "\n",
    "print(json_object)\n",
    "print(visited)\n"
   ]
  },
  {
   "cell_type": "code",
   "execution_count": 76,
   "id": "fa11d25e-898a-451e-8e06-422c73df956d",
   "metadata": {},
   "outputs": [
    {
     "name": "stdout",
     "output_type": "stream",
     "text": [
      "[\n",
      "  {\n",
      "    \"node\": {\n",
      "      \"accountingQuantity\": {\n",
      "        \"hasNumericalValue\": \"1\",\n",
      "        \"hasUnit\": {\n",
      "          \"id\": \"06CGBGEHZ8PAWS3P1T9ZQBV4P4\"\n",
      "        }\n",
      "      },\n",
      "      \"classifiedAs\": null,\n",
      "      \"conformsTo\": {\n",
      "        \"id\": \"06CGBH6819B2TETX2N08ANMM64\"\n",
      "      },\n",
      "      \"containedIn\": {\n",
      "        \"id\": null\n",
      "      },\n",
      "      \"currentLocation\": {\n",
      "        \"id\": \"06CGBG9MZ50VMHD7C7511H080C\"\n",
      "      },\n",
      "      \"custodian\": {\n",
      "        \"id\": \"06AQ1F95G855Y8P61GHC9FAS04\"\n",
      "      },\n",
      "      \"id\": \"06CGBRDC96Z9GF0XHCQVH4APBW\",\n",
      "      \"license\": null,\n",
      "      \"licensor\": null,\n",
      "      \"lot\": {\n",
      "        \"id\": null\n",
      "      },\n",
      "      \"metadata\": null,\n",
      "      \"name\": \"3D-object-Luffy\",\n",
      "      \"note\": null,\n",
      "      \"okhv\": null,\n",
      "      \"onhandQuantityHas\": {\n",
      "        \"hasUnit\": {\n",
      "          \"id\": \"06CGBGEHZ8PAWS3P1T9ZQBV4P4\"\n",
      "        },\n",
      "        \"numericalValue\": \"1\"\n",
      "      },\n",
      "      \"previousEvent\": {\n",
      "        \"id\": \"06CGBRDC8ZG77VB7FT4W9050V8\"\n",
      "      },\n",
      "      \"primaryAccountable\": {\n",
      "        \"id\": \"06AQ1F95G855Y8P61GHC9FAS04\"\n",
      "      },\n",
      "      \"repo\": null,\n",
      "      \"stage\": {\n",
      "        \"id\": null\n",
      "      },\n",
      "      \"state\": {\n",
      "        \"id\": null\n",
      "      },\n",
      "      \"trackingIdentifier\": \"3D-object-Luffy-7454\",\n",
      "      \"unitOfEffort\": {\n",
      "        \"id\": null\n",
      "      },\n",
      "      \"version\": null\n",
      "    },\n",
      "    \"type\": \"EconomicResource\",\n",
      "    \"children\": [\n",
      "      {\n",
      "        \"node\": {\n",
      "          \"action\": {\n",
      "            \"id\": \"produce\"\n",
      "          },\n",
      "          \"agreedIn\": null,\n",
      "          \"atLocation\": {\n",
      "            \"id\": null\n",
      "          },\n",
      "          \"effortQuantity\": {\n",
      "            \"hasNumericalValue\": null,\n",
      "            \"hasUnit\": {\n",
      "              \"id\": null\n",
      "            }\n",
      "          },\n",
      "          \"hasBeginning\": null,\n",
      "          \"hasEnd\": null,\n",
      "          \"hasPointInTime\": \"2025-09-01T15:24:59.572571Z\",\n",
      "          \"id\": \"06CGBRDC8ZG77VB7FT4W9050V8\",\n",
      "          \"inputOf\": {\n",
      "            \"id\": null\n",
      "          },\n",
      "          \"note\": \"produce 3D-object-Luffy\",\n",
      "          \"outputOf\": {\n",
      "            \"id\": \"06CGBRD901T2934G6M8S8XWBAM\"\n",
      "          },\n",
      "          \"previousEvent\": {\n",
      "            \"id\": null\n",
      "          },\n",
      "          \"provider\": {\n",
      "            \"id\": \"06AQ1F95G855Y8P61GHC9FAS04\"\n",
      "          },\n",
      "          \"realizationOf\": {\n",
      "            \"id\": null\n",
      "          },\n",
      "          \"receiver\": {\n",
      "            \"id\": \"06AQ1F95G855Y8P61GHC9FAS04\"\n",
      "          },\n",
      "          \"resourceClassifiedAs\": null,\n",
      "          \"resourceConformsTo\": {\n",
      "            \"id\": \"06CGBH6819B2TETX2N08ANMM64\"\n",
      "          },\n",
      "          \"resourceInventoriedAs\": {\n",
      "            \"id\": \"06CGBRDC96Z9GF0XHCQVH4APBW\"\n",
      "          },\n",
      "          \"resourceMetadata\": null,\n",
      "          \"resourceQuantity\": {\n",
      "            \"hasNumericalValue\": \"1\",\n",
      "            \"hasUnit\": {\n",
      "              \"id\": \"06CGBGEHZ8PAWS3P1T9ZQBV4P4\"\n",
      "            }\n",
      "          },\n",
      "          \"toLocation\": {\n",
      "            \"id\": \"06CGBG9MZ50VMHD7C7511H080C\"\n",
      "          },\n",
      "          \"toResourceInventoriedAs\": {\n",
      "            \"id\": null\n",
      "          },\n",
      "          \"triggeredBy\": {\n",
      "            \"id\": null\n",
      "          }\n",
      "        },\n",
      "        \"type\": \"EconomicEvent\",\n",
      "        \"children\": [\n",
      "          {\n",
      "            \"node\": {\n",
      "              \"basedOn\": {\n",
      "                \"id\": null\n",
      "              },\n",
      "              \"classifiedAs\": null,\n",
      "              \"deletable\": false,\n",
      "              \"finished\": false,\n",
      "              \"groupedIn\": {\n",
      "                \"id\": null\n",
      "              },\n",
      "              \"hasBeginning\": \"2025-09-01T15:24:58.712235Z\",\n",
      "              \"hasEnd\": \"2025-09-01T15:24:58.712235Z\",\n",
      "              \"id\": \"06CGBRD901T2934G6M8S8XWBAM\",\n",
      "              \"name\": \"Create_3D_object_Luffy\",\n",
      "              \"note\": \"3D printing process to create object 'Luffy' performed by User A\",\n",
      "              \"plannedWithin\": {\n",
      "                \"id\": null\n",
      "              }\n",
      "            },\n",
      "            \"type\": \"Process\",\n",
      "            \"children\": [\n",
      "              {\n",
      "                \"node\": {\n",
      "                  \"action\": {\n",
      "                    \"id\": \"cite\"\n",
      "                  },\n",
      "                  \"agreedIn\": null,\n",
      "                  \"atLocation\": {\n",
      "                    \"id\": null\n",
      "                  },\n",
      "                  \"effortQuantity\": {\n",
      "                    \"hasNumericalValue\": null,\n",
      "                    \"hasUnit\": {\n",
      "                      \"id\": null\n",
      "                    }\n",
      "                  },\n",
      "                  \"hasBeginning\": null,\n",
      "                  \"hasEnd\": null,\n",
      "                  \"hasPointInTime\": \"2025-09-01T15:27:45.128054Z\",\n",
      "                  \"id\": \"06CGBS1K0K8QFB0ZSB4NPY3BJ4\",\n",
      "                  \"inputOf\": {\n",
      "                    \"id\": \"06CGBRD901T2934G6M8S8XWBAM\"\n",
      "                  },\n",
      "                  \"note\": \"cite 3D-gcode-file-Luffy\",\n",
      "                  \"outputOf\": {\n",
      "                    \"id\": null\n",
      "                  },\n",
      "                  \"previousEvent\": {\n",
      "                    \"id\": \"06CGBRCZY8DMYKM91QQM5V04NW\"\n",
      "                  },\n",
      "                  \"provider\": {\n",
      "                    \"id\": \"06AQ1F95G855Y8P61GHC9FAS04\"\n",
      "                  },\n",
      "                  \"realizationOf\": {\n",
      "                    \"id\": null\n",
      "                  },\n",
      "                  \"receiver\": {\n",
      "                    \"id\": \"06AQ1F95G855Y8P61GHC9FAS04\"\n",
      "                  },\n",
      "                  \"resourceClassifiedAs\": null,\n",
      "                  \"resourceConformsTo\": {\n",
      "                    \"id\": null\n",
      "                  },\n",
      "                  \"resourceInventoriedAs\": {\n",
      "                    \"id\": \"06CGBRCZYQA5JJDRXND1G8F4A0\"\n",
      "                  },\n",
      "                  \"resourceMetadata\": null,\n",
      "                  \"resourceQuantity\": {\n",
      "                    \"hasNumericalValue\": \"1\",\n",
      "                    \"hasUnit\": {\n",
      "                      \"id\": \"06CGBGEHZ8PAWS3P1T9ZQBV4P4\"\n",
      "                    }\n",
      "                  },\n",
      "                  \"toLocation\": {\n",
      "                    \"id\": null\n",
      "                  },\n",
      "                  \"toResourceInventoriedAs\": {\n",
      "                    \"id\": null\n",
      "                  },\n",
      "                  \"triggeredBy\": {\n",
      "                    \"id\": null\n",
      "                  }\n",
      "                },\n",
      "                \"type\": \"EconomicEvent\",\n",
      "                \"children\": [\n",
      "                  {\n",
      "                    \"node\": {\n",
      "                      \"accountingQuantity\": {\n",
      "                        \"hasNumericalValue\": \"1\",\n",
      "                        \"hasUnit\": {\n",
      "                          \"id\": \"06CGBGEHZ8PAWS3P1T9ZQBV4P4\"\n",
      "                        }\n",
      "                      },\n",
      "                      \"classifiedAs\": null,\n",
      "                      \"conformsTo\": {\n",
      "                        \"id\": \"06CGBH694QRAPS663TT0F9QBFR\"\n",
      "                      },\n",
      "                      \"containedIn\": {\n",
      "                        \"id\": null\n",
      "                      },\n",
      "                      \"currentLocation\": {\n",
      "                        \"id\": \"06CGBG9MZ50VMHD7C7511H080C\"\n",
      "                      },\n",
      "                      \"custodian\": {\n",
      "                        \"id\": \"06AQ1F95G855Y8P61GHC9FAS04\"\n",
      "                      },\n",
      "                      \"id\": \"06CGBRCZYQA5JJDRXND1G8F4A0\",\n",
      "                      \"license\": null,\n",
      "                      \"licensor\": null,\n",
      "                      \"lot\": {\n",
      "                        \"id\": null\n",
      "                      },\n",
      "                      \"metadata\": null,\n",
      "                      \"name\": \"3D-gcode-file-Luffy\",\n",
      "                      \"note\": null,\n",
      "                      \"okhv\": null,\n",
      "                      \"onhandQuantityHas\": {\n",
      "                        \"hasUnit\": {\n",
      "                          \"id\": \"06CGBGEHZ8PAWS3P1T9ZQBV4P4\"\n",
      "                        },\n",
      "                        \"numericalValue\": \"1\"\n",
      "                      },\n",
      "                      \"previousEvent\": {\n",
      "                        \"id\": \"06CGBS1K0K8QFB0ZSB4NPY3BJ4\"\n",
      "                      },\n",
      "                      \"primaryAccountable\": {\n",
      "                        \"id\": \"06AQ1F95G855Y8P61GHC9FAS04\"\n",
      "                      },\n",
      "                      \"repo\": null,\n",
      "                      \"stage\": {\n",
      "                        \"id\": null\n",
      "                      },\n",
      "                      \"state\": {\n",
      "                        \"id\": null\n",
      "                      },\n",
      "                      \"trackingIdentifier\": \"3D-gcode-file-Luffy-6609\",\n",
      "                      \"unitOfEffort\": {\n",
      "                        \"id\": null\n",
      "                      },\n",
      "                      \"version\": null\n",
      "                    },\n",
      "                    \"type\": \"EconomicResource\",\n",
      "                    \"children\": [\n",
      "                      {\n",
      "                        \"node\": {\n",
      "                          \"action\": {\n",
      "                            \"id\": \"raise\"\n",
      "                          },\n",
      "                          \"agreedIn\": null,\n",
      "                          \"atLocation\": {\n",
      "                            \"id\": null\n",
      "                          },\n",
      "                          \"effortQuantity\": {\n",
      "                            \"hasNumericalValue\": null,\n",
      "                            \"hasUnit\": {\n",
      "                              \"id\": null\n",
      "                            }\n",
      "                          },\n",
      "                          \"hasBeginning\": null,\n",
      "                          \"hasEnd\": null,\n",
      "                          \"hasPointInTime\": \"2025-09-01T15:24:56.432669Z\",\n",
      "                          \"id\": \"06CGBRCZY8DMYKM91QQM5V04NW\",\n",
      "                          \"inputOf\": {\n",
      "                            \"id\": null\n",
      "                          },\n",
      "                          \"note\": \"create resource\",\n",
      "                          \"outputOf\": {\n",
      "                            \"id\": null\n",
      "                          },\n",
      "                          \"previousEvent\": {\n",
      "                            \"id\": null\n",
      "                          },\n",
      "                          \"provider\": {\n",
      "                            \"id\": \"06AQ1F95G855Y8P61GHC9FAS04\"\n",
      "                          },\n",
      "                          \"realizationOf\": {\n",
      "                            \"id\": null\n",
      "                          },\n",
      "                          \"receiver\": {\n",
      "                            \"id\": \"06AQ1F95G855Y8P61GHC9FAS04\"\n",
      "                          },\n",
      "                          \"resourceClassifiedAs\": null,\n",
      "                          \"resourceConformsTo\": {\n",
      "                            \"id\": \"06CGBH694QRAPS663TT0F9QBFR\"\n",
      "                          },\n",
      "                          \"resourceInventoriedAs\": {\n",
      "                            \"id\": \"06CGBRCZYQA5JJDRXND1G8F4A0\"\n",
      "                          },\n",
      "                          \"resourceMetadata\": null,\n",
      "                          \"resourceQuantity\": {\n",
      "                            \"hasNumericalValue\": \"1\",\n",
      "                            \"hasUnit\": {\n",
      "                              \"id\": \"06CGBGEHZ8PAWS3P1T9ZQBV4P4\"\n",
      "                            }\n",
      "                          },\n",
      "                          \"toLocation\": {\n",
      "                            \"id\": \"06CGBG9MZ50VMHD7C7511H080C\"\n",
      "                          },\n",
      "                          \"toResourceInventoriedAs\": {\n",
      "                            \"id\": null\n",
      "                          },\n",
      "                          \"triggeredBy\": {\n",
      "                            \"id\": null\n",
      "                          }\n",
      "                        },\n",
      "                        \"type\": \"EconomicEvent\",\n",
      "                        \"children\": []\n",
      "                      }\n",
      "                    ]\n",
      "                  }\n",
      "                ]\n",
      "              },\n",
      "              {\n",
      "                \"node\": {\n",
      "                  \"action\": {\n",
      "                    \"id\": \"consume\"\n",
      "                  },\n",
      "                  \"agreedIn\": null,\n",
      "                  \"atLocation\": {\n",
      "                    \"id\": null\n",
      "                  },\n",
      "                  \"effortQuantity\": {\n",
      "                    \"hasNumericalValue\": null,\n",
      "                    \"hasUnit\": {\n",
      "                      \"id\": null\n",
      "                    }\n",
      "                  },\n",
      "                  \"hasBeginning\": null,\n",
      "                  \"hasEnd\": null,\n",
      "                  \"hasPointInTime\": \"2025-09-01T15:27:24.083801Z\",\n",
      "                  \"id\": \"06CGBRZ36NHNGK1N0BC74N5S0C\",\n",
      "                  \"inputOf\": {\n",
      "                    \"id\": \"06CGBRD901T2934G6M8S8XWBAM\"\n",
      "                  },\n",
      "                  \"note\": \"consume electrical energy for 3D-object-Luffy\",\n",
      "                  \"outputOf\": {\n",
      "                    \"id\": null\n",
      "                  },\n",
      "                  \"previousEvent\": {\n",
      "                    \"id\": \"06CGBRCYQHZ0XDRDQ5ZTGK7NZW\"\n",
      "                  },\n",
      "                  \"provider\": {\n",
      "                    \"id\": \"06AQ1F95G855Y8P61GHC9FAS04\"\n",
      "                  },\n",
      "                  \"realizationOf\": {\n",
      "                    \"id\": null\n",
      "                  },\n",
      "                  \"receiver\": {\n",
      "                    \"id\": \"06AQ1F95G855Y8P61GHC9FAS04\"\n",
      "                  },\n",
      "                  \"resourceClassifiedAs\": null,\n",
      "                  \"resourceConformsTo\": {\n",
      "                    \"id\": null\n",
      "                  },\n",
      "                  \"resourceInventoriedAs\": {\n",
      "                    \"id\": \"06CGBRCYQWKTP7BZ7JA8EVFXCM\"\n",
      "                  },\n",
      "                  \"resourceMetadata\": null,\n",
      "                  \"resourceQuantity\": {\n",
      "                    \"hasNumericalValue\": \"500\",\n",
      "                    \"hasUnit\": {\n",
      "                      \"id\": \"06CGBGEPNF5B2KSE6RX4SB6FXM\"\n",
      "                    }\n",
      "                  },\n",
      "                  \"toLocation\": {\n",
      "                    \"id\": null\n",
      "                  },\n",
      "                  \"toResourceInventoriedAs\": {\n",
      "                    \"id\": null\n",
      "                  },\n",
      "                  \"triggeredBy\": {\n",
      "                    \"id\": null\n",
      "                  }\n",
      "                },\n",
      "                \"type\": \"EconomicEvent\",\n",
      "                \"children\": [\n",
      "                  {\n",
      "                    \"node\": {\n",
      "                      \"accountingQuantity\": {\n",
      "                        \"hasNumericalValue\": \"500\",\n",
      "                        \"hasUnit\": {\n",
      "                          \"id\": \"06CGBGEPNF5B2KSE6RX4SB6FXM\"\n",
      "                        }\n",
      "                      },\n",
      "                      \"classifiedAs\": null,\n",
      "                      \"conformsTo\": {\n",
      "                        \"id\": \"06CGBH66WK8HSBZTYCRY407STC\"\n",
      "                      },\n",
      "                      \"containedIn\": {\n",
      "                        \"id\": null\n",
      "                      },\n",
      "                      \"currentLocation\": {\n",
      "                        \"id\": \"06CGBG9MZ50VMHD7C7511H080C\"\n",
      "                      },\n",
      "                      \"custodian\": {\n",
      "                        \"id\": \"06AQ1F95G855Y8P61GHC9FAS04\"\n",
      "                      },\n",
      "                      \"id\": \"06CGBRCYQWKTP7BZ7JA8EVFXCM\",\n",
      "                      \"license\": null,\n",
      "                      \"licensor\": null,\n",
      "                      \"lot\": {\n",
      "                        \"id\": null\n",
      "                      },\n",
      "                      \"metadata\": null,\n",
      "                      \"name\": \"Electrical-Energy\",\n",
      "                      \"note\": null,\n",
      "                      \"okhv\": null,\n",
      "                      \"onhandQuantityHas\": {\n",
      "                        \"hasUnit\": {\n",
      "                          \"id\": \"06CGBGEPNF5B2KSE6RX4SB6FXM\"\n",
      "                        },\n",
      "                        \"numericalValue\": \"500\"\n",
      "                      },\n",
      "                      \"previousEvent\": {\n",
      "                        \"id\": \"06CGBRZ36NHNGK1N0BC74N5S0C\"\n",
      "                      },\n",
      "                      \"primaryAccountable\": {\n",
      "                        \"id\": \"06AQ1F95G855Y8P61GHC9FAS04\"\n",
      "                      },\n",
      "                      \"repo\": null,\n",
      "                      \"stage\": {\n",
      "                        \"id\": null\n",
      "                      },\n",
      "                      \"state\": {\n",
      "                        \"id\": null\n",
      "                      },\n",
      "                      \"trackingIdentifier\": \"Electrical-Energy-5627\",\n",
      "                      \"unitOfEffort\": {\n",
      "                        \"id\": null\n",
      "                      },\n",
      "                      \"version\": null\n",
      "                    },\n",
      "                    \"type\": \"EconomicResource\",\n",
      "                    \"children\": [\n",
      "                      {\n",
      "                        \"node\": {\n",
      "                          \"action\": {\n",
      "                            \"id\": \"raise\"\n",
      "                          },\n",
      "                          \"agreedIn\": null,\n",
      "                          \"atLocation\": {\n",
      "                            \"id\": null\n",
      "                          },\n",
      "                          \"effortQuantity\": {\n",
      "                            \"hasNumericalValue\": null,\n",
      "                            \"hasUnit\": {\n",
      "                              \"id\": null\n",
      "                            }\n",
      "                          },\n",
      "                          \"hasBeginning\": null,\n",
      "                          \"hasEnd\": null,\n",
      "                          \"hasPointInTime\": \"2025-09-01T15:24:56.103938Z\",\n",
      "                          \"id\": \"06CGBRCYQHZ0XDRDQ5ZTGK7NZW\",\n",
      "                          \"inputOf\": {\n",
      "                            \"id\": null\n",
      "                          },\n",
      "                          \"note\": \"create resource\",\n",
      "                          \"outputOf\": {\n",
      "                            \"id\": null\n",
      "                          },\n",
      "                          \"previousEvent\": {\n",
      "                            \"id\": null\n",
      "                          },\n",
      "                          \"provider\": {\n",
      "                            \"id\": \"06AQ1F95G855Y8P61GHC9FAS04\"\n",
      "                          },\n",
      "                          \"realizationOf\": {\n",
      "                            \"id\": null\n",
      "                          },\n",
      "                          \"receiver\": {\n",
      "                            \"id\": \"06AQ1F95G855Y8P61GHC9FAS04\"\n",
      "                          },\n",
      "                          \"resourceClassifiedAs\": null,\n",
      "                          \"resourceConformsTo\": {\n",
      "                            \"id\": \"06CGBH66WK8HSBZTYCRY407STC\"\n",
      "                          },\n",
      "                          \"resourceInventoriedAs\": {\n",
      "                            \"id\": \"06CGBRCYQWKTP7BZ7JA8EVFXCM\"\n",
      "                          },\n",
      "                          \"resourceMetadata\": null,\n",
      "                          \"resourceQuantity\": {\n",
      "                            \"hasNumericalValue\": \"1000\",\n",
      "                            \"hasUnit\": {\n",
      "                              \"id\": \"06CGBGEPNF5B2KSE6RX4SB6FXM\"\n",
      "                            }\n",
      "                          },\n",
      "                          \"toLocation\": {\n",
      "                            \"id\": \"06CGBG9MZ50VMHD7C7511H080C\"\n",
      "                          },\n",
      "                          \"toResourceInventoriedAs\": {\n",
      "                            \"id\": null\n",
      "                          },\n",
      "                          \"triggeredBy\": {\n",
      "                            \"id\": null\n",
      "                          }\n",
      "                        },\n",
      "                        \"type\": \"EconomicEvent\",\n",
      "                        \"children\": []\n",
      "                      }\n",
      "                    ]\n",
      "                  }\n",
      "                ]\n",
      "              },\n",
      "              {\n",
      "                \"node\": {\n",
      "                  \"action\": {\n",
      "                    \"id\": \"consume\"\n",
      "                  },\n",
      "                  \"agreedIn\": null,\n",
      "                  \"atLocation\": {\n",
      "                    \"id\": null\n",
      "                  },\n",
      "                  \"effortQuantity\": {\n",
      "                    \"hasNumericalValue\": null,\n",
      "                    \"hasUnit\": {\n",
      "                      \"id\": null\n",
      "                    }\n",
      "                  },\n",
      "                  \"hasBeginning\": null,\n",
      "                  \"hasEnd\": null,\n",
      "                  \"hasPointInTime\": \"2025-09-01T15:25:00.688687Z\",\n",
      "                  \"id\": \"06CGBRDGMRM9Z2Q87F77X00Y9R\",\n",
      "                  \"inputOf\": {\n",
      "                    \"id\": \"06CGBRD901T2934G6M8S8XWBAM\"\n",
      "                  },\n",
      "                  \"note\": \"consume filament for 3D-object-Luffy\",\n",
      "                  \"outputOf\": {\n",
      "                    \"id\": null\n",
      "                  },\n",
      "                  \"previousEvent\": {\n",
      "                    \"id\": \"06CGBRCXEGEPFJRNEH9ETCRVA0\"\n",
      "                  },\n",
      "                  \"provider\": {\n",
      "                    \"id\": \"06AQ1F95G855Y8P61GHC9FAS04\"\n",
      "                  },\n",
      "                  \"realizationOf\": {\n",
      "                    \"id\": null\n",
      "                  },\n",
      "                  \"receiver\": {\n",
      "                    \"id\": \"06AQ1F95G855Y8P61GHC9FAS04\"\n",
      "                  },\n",
      "                  \"resourceClassifiedAs\": null,\n",
      "                  \"resourceConformsTo\": {\n",
      "                    \"id\": null\n",
      "                  },\n",
      "                  \"resourceInventoriedAs\": {\n",
      "                    \"id\": \"06CGBRCXEYKZWVVT0WQYNKFFJR\"\n",
      "                  },\n",
      "                  \"resourceMetadata\": null,\n",
      "                  \"resourceQuantity\": {\n",
      "                    \"hasNumericalValue\": \"50\",\n",
      "                    \"hasUnit\": {\n",
      "                      \"id\": \"06CGBGEK7YDQMQBFMRY05T14WR\"\n",
      "                    }\n",
      "                  },\n",
      "                  \"toLocation\": {\n",
      "                    \"id\": null\n",
      "                  },\n",
      "                  \"toResourceInventoriedAs\": {\n",
      "                    \"id\": null\n",
      "                  },\n",
      "                  \"triggeredBy\": {\n",
      "                    \"id\": null\n",
      "                  }\n",
      "                },\n",
      "                \"type\": \"EconomicEvent\",\n",
      "                \"children\": [\n",
      "                  {\n",
      "                    \"node\": {\n",
      "                      \"accountingQuantity\": {\n",
      "                        \"hasNumericalValue\": \"-49\",\n",
      "                        \"hasUnit\": {\n",
      "                          \"id\": \"06CGBGEK7YDQMQBFMRY05T14WR\"\n",
      "                        }\n",
      "                      },\n",
      "                      \"classifiedAs\": null,\n",
      "                      \"conformsTo\": {\n",
      "                        \"id\": \"06CGBH65NNCND350GCH9TFME3R\"\n",
      "                      },\n",
      "                      \"containedIn\": {\n",
      "                        \"id\": null\n",
      "                      },\n",
      "                      \"currentLocation\": {\n",
      "                        \"id\": \"06CGBG9MZ50VMHD7C7511H080C\"\n",
      "                      },\n",
      "                      \"custodian\": {\n",
      "                        \"id\": \"06AQ1F95G855Y8P61GHC9FAS04\"\n",
      "                      },\n",
      "                      \"id\": \"06CGBRCXEYKZWVVT0WQYNKFFJR\",\n",
      "                      \"license\": null,\n",
      "                      \"licensor\": null,\n",
      "                      \"lot\": {\n",
      "                        \"id\": null\n",
      "                      },\n",
      "                      \"metadata\": null,\n",
      "                      \"name\": \"Filament\",\n",
      "                      \"note\": null,\n",
      "                      \"okhv\": null,\n",
      "                      \"onhandQuantityHas\": {\n",
      "                        \"hasUnit\": {\n",
      "                          \"id\": \"06CGBGEK7YDQMQBFMRY05T14WR\"\n",
      "                        },\n",
      "                        \"numericalValue\": \"-49\"\n",
      "                      },\n",
      "                      \"previousEvent\": {\n",
      "                        \"id\": \"06CGBRDGMRM9Z2Q87F77X00Y9R\"\n",
      "                      },\n",
      "                      \"primaryAccountable\": {\n",
      "                        \"id\": \"06AQ1F95G855Y8P61GHC9FAS04\"\n",
      "                      },\n",
      "                      \"repo\": null,\n",
      "                      \"stage\": {\n",
      "                        \"id\": null\n",
      "                      },\n",
      "                      \"state\": {\n",
      "                        \"id\": null\n",
      "                      },\n",
      "                      \"trackingIdentifier\": \"Filament-6764\",\n",
      "                      \"unitOfEffort\": {\n",
      "                        \"id\": null\n",
      "                      },\n",
      "                      \"version\": null\n",
      "                    },\n",
      "                    \"type\": \"EconomicResource\",\n",
      "                    \"children\": [\n",
      "                      {\n",
      "                        \"node\": {\n",
      "                          \"action\": {\n",
      "                            \"id\": \"raise\"\n",
      "                          },\n",
      "                          \"agreedIn\": null,\n",
      "                          \"atLocation\": {\n",
      "                            \"id\": null\n",
      "                          },\n",
      "                          \"effortQuantity\": {\n",
      "                            \"hasNumericalValue\": null,\n",
      "                            \"hasUnit\": {\n",
      "                              \"id\": null\n",
      "                            }\n",
      "                          },\n",
      "                          \"hasBeginning\": null,\n",
      "                          \"hasEnd\": null,\n",
      "                          \"hasPointInTime\": \"2025-09-01T15:24:55.779620Z\",\n",
      "                          \"id\": \"06CGBRCXEGEPFJRNEH9ETCRVA0\",\n",
      "                          \"inputOf\": {\n",
      "                            \"id\": null\n",
      "                          },\n",
      "                          \"note\": \"create resource\",\n",
      "                          \"outputOf\": {\n",
      "                            \"id\": null\n",
      "                          },\n",
      "                          \"previousEvent\": {\n",
      "                            \"id\": null\n",
      "                          },\n",
      "                          \"provider\": {\n",
      "                            \"id\": \"06AQ1F95G855Y8P61GHC9FAS04\"\n",
      "                          },\n",
      "                          \"realizationOf\": {\n",
      "                            \"id\": null\n",
      "                          },\n",
      "                          \"receiver\": {\n",
      "                            \"id\": \"06AQ1F95G855Y8P61GHC9FAS04\"\n",
      "                          },\n",
      "                          \"resourceClassifiedAs\": null,\n",
      "                          \"resourceConformsTo\": {\n",
      "                            \"id\": \"06CGBH65NNCND350GCH9TFME3R\"\n",
      "                          },\n",
      "                          \"resourceInventoriedAs\": {\n",
      "                            \"id\": \"06CGBRCXEYKZWVVT0WQYNKFFJR\"\n",
      "                          },\n",
      "                          \"resourceMetadata\": null,\n",
      "                          \"resourceQuantity\": {\n",
      "                            \"hasNumericalValue\": \"1\",\n",
      "                            \"hasUnit\": {\n",
      "                              \"id\": \"06CGBGEK7YDQMQBFMRY05T14WR\"\n",
      "                            }\n",
      "                          },\n",
      "                          \"toLocation\": {\n",
      "                            \"id\": \"06CGBG9MZ50VMHD7C7511H080C\"\n",
      "                          },\n",
      "                          \"toResourceInventoriedAs\": {\n",
      "                            \"id\": null\n",
      "                          },\n",
      "                          \"triggeredBy\": {\n",
      "                            \"id\": null\n",
      "                          }\n",
      "                        },\n",
      "                        \"type\": \"EconomicEvent\",\n",
      "                        \"children\": []\n",
      "                      }\n",
      "                    ]\n",
      "                  }\n",
      "                ]\n",
      "              }\n",
      "            ]\n",
      "          }\n",
      "        ]\n",
      "      }\n",
      "    ]\n",
      "  }\n",
      "]\n"
     ]
    }
   ],
   "source": [
    "be_dpp = get_dpp(trace_me, users_data['A'], endpoint=ENDPOINT)\n",
    "print(json.dumps(be_dpp, indent=2))"
   ]
  },
  {
   "cell_type": "code",
   "execution_count": 77,
   "id": "6674c2e5-255e-49c5-91ee-006168596144",
   "metadata": {},
   "outputs": [
    {
     "name": "stdout",
     "output_type": "stream",
     "text": [
      "################################################################################\n",
      "nr trace: 12, nr events: 8, nr front-end dpp: 12, nr back-end dpp: 12\n",
      "################################################################################\n",
      "Check whether there are any duplicated trace items\n",
      "################################################################################\n",
      "Check whether there are any duplicated events\n",
      "################################################################################\n",
      "Check whether there are any duplicated nodes in front-end dpp\n",
      "################################################################################\n",
      "Check whether there are any duplicated nodes in back-end dpp\n",
      "################################################################################\n",
      "Are trace items in the events?\n",
      "NOT FOUND: trace item 3D-object-Luffy id: 06CGBRDC96Z9GF0XHCQVH4APBW of type EconomicResource\n",
      "NOT FOUND: trace item Create_3D_object_Luffy id: 06CGBRD901T2934G6M8S8XWBAM of type Process\n",
      "NOT FOUND: trace item 3D-gcode-file-Luffy id: 06CGBRCZYQA5JJDRXND1G8F4A0 of type EconomicResource\n",
      "NOT FOUND: trace item Electrical-Energy id: 06CGBRCYQWKTP7BZ7JA8EVFXCM of type EconomicResource\n",
      "NOT FOUND: trace item Filament id: 06CGBRCXEYKZWVVT0WQYNKFFJR of type EconomicResource\n",
      "################################################################################\n",
      "Are events in the trace?\n",
      "NOT FOUND: Event raise with id 06CGBRCW59N6C31TJGJCSVGA8M\n",
      "################################################################################\n",
      "Are trace items in the dpp?\n",
      "################################################################################\n",
      "Are dpp elements in the trace?\n",
      "################################################################################\n",
      "Are back-end and my trace the same?\n"
     ]
    }
   ],
   "source": [
    "trace = trace_query(trace_me, users_data['A'], endpoint=ENDPOINT)\n",
    "# check consistency between the registered events, the back-end trace and the generated dpp\n",
    "check_traces(trace, event_seq, tot_dpp, be_dpp)"
   ]
  },
  {
   "cell_type": "code",
   "execution_count": 78,
   "id": "e5f137e9-d3fc-4f3e-8938-bb467be0721a",
   "metadata": {},
   "outputs": [],
   "source": [
    "save_traces(USE_CASE, tot_dpp, trace, be_dpp, event_seq)"
   ]
  },
  {
   "cell_type": "code",
   "execution_count": 79,
   "id": "f52e4f52-58b4-440b-a6cb-42ac98c4c021",
   "metadata": {},
   "outputs": [
    {
     "data": {
      "application/vnd.plotly.v1+json": {
       "config": {
        "plotlyServerURL": "https://plot.ly"
       },
       "data": [
        {
         "link": {
          "color": [
           "#92c5de",
           "#99d8c9",
           "#92c5de",
           "#fb6a4a",
           "#92c5de",
           "#92c5de",
           "#fb6a4a",
           "#92c5de",
           "#92c5de",
           "#fb6a4a",
           "#92c5de"
          ],
          "source": [
           1,
           2,
           3,
           4,
           5,
           6,
           7,
           8,
           9,
           10,
           11
          ],
          "target": [
           0,
           1,
           2,
           3,
           4,
           2,
           6,
           7,
           2,
           9,
           10
          ],
          "value": [
           1,
           1,
           0.1,
           1,
           1,
           0.1,
           500,
           500,
           0.1,
           50,
           0.1
          ]
         },
         "node": {
          "color": [
           "#e41a1c",
           "#377eb8",
           "#4daf4a",
           "#377eb8",
           "#e41a1c",
           "#377eb8",
           "#377eb8",
           "#e41a1c",
           "#377eb8",
           "#377eb8",
           "#e41a1c",
           "#377eb8"
          ],
          "label": [
           "3D-object-Luffy",
           "produce",
           "Create_3D_object_Luffy",
           "cite",
           "3D-gcode-file-Luffy",
           "raise",
           "consume",
           "Electrical-Energy",
           "raise",
           "consume",
           "Filament",
           "raise"
          ],
          "pad": 10,
          "thickness": 5
         },
         "type": "sankey"
        }
       ],
       "layout": {
        "template": {
         "data": {
          "bar": [
           {
            "error_x": {
             "color": "#2a3f5f"
            },
            "error_y": {
             "color": "#2a3f5f"
            },
            "marker": {
             "line": {
              "color": "#E5ECF6",
              "width": 0.5
             },
             "pattern": {
              "fillmode": "overlay",
              "size": 10,
              "solidity": 0.2
             }
            },
            "type": "bar"
           }
          ],
          "barpolar": [
           {
            "marker": {
             "line": {
              "color": "#E5ECF6",
              "width": 0.5
             },
             "pattern": {
              "fillmode": "overlay",
              "size": 10,
              "solidity": 0.2
             }
            },
            "type": "barpolar"
           }
          ],
          "carpet": [
           {
            "aaxis": {
             "endlinecolor": "#2a3f5f",
             "gridcolor": "white",
             "linecolor": "white",
             "minorgridcolor": "white",
             "startlinecolor": "#2a3f5f"
            },
            "baxis": {
             "endlinecolor": "#2a3f5f",
             "gridcolor": "white",
             "linecolor": "white",
             "minorgridcolor": "white",
             "startlinecolor": "#2a3f5f"
            },
            "type": "carpet"
           }
          ],
          "choropleth": [
           {
            "colorbar": {
             "outlinewidth": 0,
             "ticks": ""
            },
            "type": "choropleth"
           }
          ],
          "contour": [
           {
            "colorbar": {
             "outlinewidth": 0,
             "ticks": ""
            },
            "colorscale": [
             [
              0,
              "#0d0887"
             ],
             [
              0.1111111111111111,
              "#46039f"
             ],
             [
              0.2222222222222222,
              "#7201a8"
             ],
             [
              0.3333333333333333,
              "#9c179e"
             ],
             [
              0.4444444444444444,
              "#bd3786"
             ],
             [
              0.5555555555555556,
              "#d8576b"
             ],
             [
              0.6666666666666666,
              "#ed7953"
             ],
             [
              0.7777777777777778,
              "#fb9f3a"
             ],
             [
              0.8888888888888888,
              "#fdca26"
             ],
             [
              1,
              "#f0f921"
             ]
            ],
            "type": "contour"
           }
          ],
          "contourcarpet": [
           {
            "colorbar": {
             "outlinewidth": 0,
             "ticks": ""
            },
            "type": "contourcarpet"
           }
          ],
          "heatmap": [
           {
            "colorbar": {
             "outlinewidth": 0,
             "ticks": ""
            },
            "colorscale": [
             [
              0,
              "#0d0887"
             ],
             [
              0.1111111111111111,
              "#46039f"
             ],
             [
              0.2222222222222222,
              "#7201a8"
             ],
             [
              0.3333333333333333,
              "#9c179e"
             ],
             [
              0.4444444444444444,
              "#bd3786"
             ],
             [
              0.5555555555555556,
              "#d8576b"
             ],
             [
              0.6666666666666666,
              "#ed7953"
             ],
             [
              0.7777777777777778,
              "#fb9f3a"
             ],
             [
              0.8888888888888888,
              "#fdca26"
             ],
             [
              1,
              "#f0f921"
             ]
            ],
            "type": "heatmap"
           }
          ],
          "histogram": [
           {
            "marker": {
             "pattern": {
              "fillmode": "overlay",
              "size": 10,
              "solidity": 0.2
             }
            },
            "type": "histogram"
           }
          ],
          "histogram2d": [
           {
            "colorbar": {
             "outlinewidth": 0,
             "ticks": ""
            },
            "colorscale": [
             [
              0,
              "#0d0887"
             ],
             [
              0.1111111111111111,
              "#46039f"
             ],
             [
              0.2222222222222222,
              "#7201a8"
             ],
             [
              0.3333333333333333,
              "#9c179e"
             ],
             [
              0.4444444444444444,
              "#bd3786"
             ],
             [
              0.5555555555555556,
              "#d8576b"
             ],
             [
              0.6666666666666666,
              "#ed7953"
             ],
             [
              0.7777777777777778,
              "#fb9f3a"
             ],
             [
              0.8888888888888888,
              "#fdca26"
             ],
             [
              1,
              "#f0f921"
             ]
            ],
            "type": "histogram2d"
           }
          ],
          "histogram2dcontour": [
           {
            "colorbar": {
             "outlinewidth": 0,
             "ticks": ""
            },
            "colorscale": [
             [
              0,
              "#0d0887"
             ],
             [
              0.1111111111111111,
              "#46039f"
             ],
             [
              0.2222222222222222,
              "#7201a8"
             ],
             [
              0.3333333333333333,
              "#9c179e"
             ],
             [
              0.4444444444444444,
              "#bd3786"
             ],
             [
              0.5555555555555556,
              "#d8576b"
             ],
             [
              0.6666666666666666,
              "#ed7953"
             ],
             [
              0.7777777777777778,
              "#fb9f3a"
             ],
             [
              0.8888888888888888,
              "#fdca26"
             ],
             [
              1,
              "#f0f921"
             ]
            ],
            "type": "histogram2dcontour"
           }
          ],
          "mesh3d": [
           {
            "colorbar": {
             "outlinewidth": 0,
             "ticks": ""
            },
            "type": "mesh3d"
           }
          ],
          "parcoords": [
           {
            "line": {
             "colorbar": {
              "outlinewidth": 0,
              "ticks": ""
             }
            },
            "type": "parcoords"
           }
          ],
          "pie": [
           {
            "automargin": true,
            "type": "pie"
           }
          ],
          "scatter": [
           {
            "fillpattern": {
             "fillmode": "overlay",
             "size": 10,
             "solidity": 0.2
            },
            "type": "scatter"
           }
          ],
          "scatter3d": [
           {
            "line": {
             "colorbar": {
              "outlinewidth": 0,
              "ticks": ""
             }
            },
            "marker": {
             "colorbar": {
              "outlinewidth": 0,
              "ticks": ""
             }
            },
            "type": "scatter3d"
           }
          ],
          "scattercarpet": [
           {
            "marker": {
             "colorbar": {
              "outlinewidth": 0,
              "ticks": ""
             }
            },
            "type": "scattercarpet"
           }
          ],
          "scattergeo": [
           {
            "marker": {
             "colorbar": {
              "outlinewidth": 0,
              "ticks": ""
             }
            },
            "type": "scattergeo"
           }
          ],
          "scattergl": [
           {
            "marker": {
             "colorbar": {
              "outlinewidth": 0,
              "ticks": ""
             }
            },
            "type": "scattergl"
           }
          ],
          "scattermap": [
           {
            "marker": {
             "colorbar": {
              "outlinewidth": 0,
              "ticks": ""
             }
            },
            "type": "scattermap"
           }
          ],
          "scattermapbox": [
           {
            "marker": {
             "colorbar": {
              "outlinewidth": 0,
              "ticks": ""
             }
            },
            "type": "scattermapbox"
           }
          ],
          "scatterpolar": [
           {
            "marker": {
             "colorbar": {
              "outlinewidth": 0,
              "ticks": ""
             }
            },
            "type": "scatterpolar"
           }
          ],
          "scatterpolargl": [
           {
            "marker": {
             "colorbar": {
              "outlinewidth": 0,
              "ticks": ""
             }
            },
            "type": "scatterpolargl"
           }
          ],
          "scatterternary": [
           {
            "marker": {
             "colorbar": {
              "outlinewidth": 0,
              "ticks": ""
             }
            },
            "type": "scatterternary"
           }
          ],
          "surface": [
           {
            "colorbar": {
             "outlinewidth": 0,
             "ticks": ""
            },
            "colorscale": [
             [
              0,
              "#0d0887"
             ],
             [
              0.1111111111111111,
              "#46039f"
             ],
             [
              0.2222222222222222,
              "#7201a8"
             ],
             [
              0.3333333333333333,
              "#9c179e"
             ],
             [
              0.4444444444444444,
              "#bd3786"
             ],
             [
              0.5555555555555556,
              "#d8576b"
             ],
             [
              0.6666666666666666,
              "#ed7953"
             ],
             [
              0.7777777777777778,
              "#fb9f3a"
             ],
             [
              0.8888888888888888,
              "#fdca26"
             ],
             [
              1,
              "#f0f921"
             ]
            ],
            "type": "surface"
           }
          ],
          "table": [
           {
            "cells": {
             "fill": {
              "color": "#EBF0F8"
             },
             "line": {
              "color": "white"
             }
            },
            "header": {
             "fill": {
              "color": "#C8D4E3"
             },
             "line": {
              "color": "white"
             }
            },
            "type": "table"
           }
          ]
         },
         "layout": {
          "annotationdefaults": {
           "arrowcolor": "#2a3f5f",
           "arrowhead": 0,
           "arrowwidth": 1
          },
          "autotypenumbers": "strict",
          "coloraxis": {
           "colorbar": {
            "outlinewidth": 0,
            "ticks": ""
           }
          },
          "colorscale": {
           "diverging": [
            [
             0,
             "#8e0152"
            ],
            [
             0.1,
             "#c51b7d"
            ],
            [
             0.2,
             "#de77ae"
            ],
            [
             0.3,
             "#f1b6da"
            ],
            [
             0.4,
             "#fde0ef"
            ],
            [
             0.5,
             "#f7f7f7"
            ],
            [
             0.6,
             "#e6f5d0"
            ],
            [
             0.7,
             "#b8e186"
            ],
            [
             0.8,
             "#7fbc41"
            ],
            [
             0.9,
             "#4d9221"
            ],
            [
             1,
             "#276419"
            ]
           ],
           "sequential": [
            [
             0,
             "#0d0887"
            ],
            [
             0.1111111111111111,
             "#46039f"
            ],
            [
             0.2222222222222222,
             "#7201a8"
            ],
            [
             0.3333333333333333,
             "#9c179e"
            ],
            [
             0.4444444444444444,
             "#bd3786"
            ],
            [
             0.5555555555555556,
             "#d8576b"
            ],
            [
             0.6666666666666666,
             "#ed7953"
            ],
            [
             0.7777777777777778,
             "#fb9f3a"
            ],
            [
             0.8888888888888888,
             "#fdca26"
            ],
            [
             1,
             "#f0f921"
            ]
           ],
           "sequentialminus": [
            [
             0,
             "#0d0887"
            ],
            [
             0.1111111111111111,
             "#46039f"
            ],
            [
             0.2222222222222222,
             "#7201a8"
            ],
            [
             0.3333333333333333,
             "#9c179e"
            ],
            [
             0.4444444444444444,
             "#bd3786"
            ],
            [
             0.5555555555555556,
             "#d8576b"
            ],
            [
             0.6666666666666666,
             "#ed7953"
            ],
            [
             0.7777777777777778,
             "#fb9f3a"
            ],
            [
             0.8888888888888888,
             "#fdca26"
            ],
            [
             1,
             "#f0f921"
            ]
           ]
          },
          "colorway": [
           "#636efa",
           "#EF553B",
           "#00cc96",
           "#ab63fa",
           "#FFA15A",
           "#19d3f3",
           "#FF6692",
           "#B6E880",
           "#FF97FF",
           "#FECB52"
          ],
          "font": {
           "color": "#2a3f5f"
          },
          "geo": {
           "bgcolor": "white",
           "lakecolor": "white",
           "landcolor": "#E5ECF6",
           "showlakes": true,
           "showland": true,
           "subunitcolor": "white"
          },
          "hoverlabel": {
           "align": "left"
          },
          "hovermode": "closest",
          "mapbox": {
           "style": "light"
          },
          "paper_bgcolor": "white",
          "plot_bgcolor": "#E5ECF6",
          "polar": {
           "angularaxis": {
            "gridcolor": "white",
            "linecolor": "white",
            "ticks": ""
           },
           "bgcolor": "#E5ECF6",
           "radialaxis": {
            "gridcolor": "white",
            "linecolor": "white",
            "ticks": ""
           }
          },
          "scene": {
           "xaxis": {
            "backgroundcolor": "#E5ECF6",
            "gridcolor": "white",
            "gridwidth": 2,
            "linecolor": "white",
            "showbackground": true,
            "ticks": "",
            "zerolinecolor": "white"
           },
           "yaxis": {
            "backgroundcolor": "#E5ECF6",
            "gridcolor": "white",
            "gridwidth": 2,
            "linecolor": "white",
            "showbackground": true,
            "ticks": "",
            "zerolinecolor": "white"
           },
           "zaxis": {
            "backgroundcolor": "#E5ECF6",
            "gridcolor": "white",
            "gridwidth": 2,
            "linecolor": "white",
            "showbackground": true,
            "ticks": "",
            "zerolinecolor": "white"
           }
          },
          "shapedefaults": {
           "line": {
            "color": "#2a3f5f"
           }
          },
          "ternary": {
           "aaxis": {
            "gridcolor": "white",
            "linecolor": "white",
            "ticks": ""
           },
           "baxis": {
            "gridcolor": "white",
            "linecolor": "white",
            "ticks": ""
           },
           "bgcolor": "#E5ECF6",
           "caxis": {
            "gridcolor": "white",
            "linecolor": "white",
            "ticks": ""
           }
          },
          "title": {
           "x": 0.05
          },
          "xaxis": {
           "automargin": true,
           "gridcolor": "white",
           "linecolor": "white",
           "ticks": "",
           "title": {
            "standoff": 15
           },
           "zerolinecolor": "white",
           "zerolinewidth": 2
          },
          "yaxis": {
           "automargin": true,
           "gridcolor": "white",
           "linecolor": "white",
           "ticks": "",
           "title": {
            "standoff": 15
           },
           "zerolinecolor": "white",
           "zerolinewidth": 2
          }
         }
        }
       }
      },
      "image/png": "[encoded data removed]"
     },
     "metadata": {},
     "output_type": "display_data"
    }
   ],
   "source": [
    "labels = []\n",
    "sources = []\n",
    "targets = []\n",
    "values = []\n",
    "color_nodes = []\n",
    "color_links = []\n",
    "assigned = {}\n",
    "vis_dpp(tot_dpp[0], count=0, assigned=assigned, labels=labels, targets=targets, sources=sources, values=values, color_nodes=color_nodes, color_links=color_links)\n",
    "sources, targets = consol_trace(assigned, sources, targets)\n",
    "make_sankey(sources, targets, labels, values, color_nodes, color_links)\n",
    "# make_sankey([0,0,1,2,2], [2,3,3,3,4], ['0','1','2','3','4'], [2,1,1,1,1], color_nodes, color_links)"
   ]
  },
  {
   "cell_type": "code",
   "execution_count": 80,
   "id": "8f406bdb-0bfc-4cbc-b05d-0ab3187fbd0c",
   "metadata": {},
   "outputs": [],
   "source": [
    "label = ['Operating Expeditures', \n",
    "         'Public Safety', \n",
    "         'Engineering and Utilities', \n",
    "         'Community-Related Services', \n",
    "         'Corporate Support',\n",
    "         'Police', \n",
    "         'Fire',\n",
    "         'Utilities', \n",
    "         'Engineering Public Works',\n",
    "         'Parks and Recreation', \n",
    "         'Arts, Culture, and Community Services',\n",
    "         'Library', \n",
    "         'Development, Buildings, and Licensing',\n",
    "         'Planning, Urban Design, and Sustainability', \n",
    "         'Other',\n",
    "         'Corporate Support', \n",
    "         'Debt and Capital (Non-Utility)', \n",
    "         'Contingencies and Transfers']\n",
    "\n",
    "color_node = ['#808B96', \n",
    "             '#EC7063', '#F7DC6F', '#48C9B0', '#AF7AC5',\n",
    "             '#EC7063', '#EC7063',\n",
    "             '#F7DC6F', '#F7DC6F',\n",
    "             '#48C9B0', '#48C9B0', '#48C9B0', '#48C9B0', '#48C9B0', '#48C9B0',\n",
    "             '#AF7AC5', '#AF7AC5', '#AF7AC5']\n",
    "\n",
    "color_link = ['#EBBAB5', '#FEF3C7', '#A6E3D7', '#CBB4D5',\n",
    "              '#EBBAB5', '#EBBAB5',\n",
    "              '#FEF3C7', '#FEF3C7',\n",
    "              '#A6E3D7', '#A6E3D7', '#A6E3D7', '#A6E3D7', '#A6E3D7', '#A6E3D7',\n",
    "              '#CBB4D5', '#CBB4D5', '#CBB4D5']\n",
    "\n",
    "\n",
    "source = [0, 0, 0, 0,\n",
    "          1, 1,\n",
    "          2, 2,\n",
    "          3, 3, 3, 3, 3, 3,\n",
    "          4, 4, 4]\n",
    "\n",
    "target = [1, 2, 3, 4, \n",
    "          5, 6,\n",
    "          7, 8, \n",
    "          9, 10, 11, 12, 13, 14, \n",
    "          15, 16, 17]\n",
    "\n",
    "value = [484900, 468350, 355300, 306850, \n",
    "         339150, 145350, \n",
    "         371450, 96900, \n",
    "         129200, 80750, 48450, 48450, 32300, 16150, \n",
    "         113050, 129200, 64600]"
   ]
  },
  {
   "cell_type": "code",
   "execution_count": 81,
   "id": "14c5e397-c10b-493f-90df-974bfbcea2ec",
   "metadata": {},
   "outputs": [
    {
     "data": {
      "application/vnd.plotly.v1+json": {
       "config": {
        "plotlyServerURL": "https://plot.ly"
       },
       "data": [
        {
         "link": {
          "color": [
           "#EBBAB5",
           "#FEF3C7",
           "#A6E3D7",
           "#CBB4D5",
           "#EBBAB5",
           "#EBBAB5",
           "#FEF3C7",
           "#FEF3C7",
           "#A6E3D7",
           "#A6E3D7",
           "#A6E3D7",
           "#A6E3D7",
           "#A6E3D7",
           "#A6E3D7",
           "#CBB4D5",
           "#CBB4D5",
           "#CBB4D5"
          ],
          "source": [
           0,
           0,
           0,
           0,
           1,
           1,
           2,
           2,
           3,
           3,
           3,
           3,
           3,
           3,
           4,
           4,
           4
          ],
          "target": [
           1,
           2,
           3,
           4,
           5,
           6,
           7,
           8,
           9,
           10,
           11,
           12,
           13,
           14,
           15,
           16,
           17
          ],
          "value": [
           484900,
           468350,
           355300,
           306850,
           339150,
           145350,
           371450,
           96900,
           129200,
           80750,
           48450,
           48450,
           32300,
           16150,
           113050,
           129200,
           64600
          ]
         },
         "node": {
          "color": [
           "#808B96",
           "#EC7063",
           "#F7DC6F",
           "#48C9B0",
           "#AF7AC5",
           "#EC7063",
           "#EC7063",
           "#F7DC6F",
           "#F7DC6F",
           "#48C9B0",
           "#48C9B0",
           "#48C9B0",
           "#48C9B0",
           "#48C9B0",
           "#48C9B0",
           "#AF7AC5",
           "#AF7AC5",
           "#AF7AC5"
          ],
          "label": [
           "Operating Expeditures",
           "Public Safety",
           "Engineering and Utilities",
           "Community-Related Services",
           "Corporate Support",
           "Police",
           "Fire",
           "Utilities",
           "Engineering Public Works",
           "Parks and Recreation",
           "Arts, Culture, and Community Services",
           "Library",
           "Development, Buildings, and Licensing",
           "Planning, Urban Design, and Sustainability",
           "Other",
           "Corporate Support",
           "Debt and Capital (Non-Utility)",
           "Contingencies and Transfers"
          ],
          "pad": 15,
          "thickness": 5
         },
         "type": "sankey"
        }
       ],
       "layout": {
        "template": {
         "data": {
          "bar": [
           {
            "error_x": {
             "color": "#2a3f5f"
            },
            "error_y": {
             "color": "#2a3f5f"
            },
            "marker": {
             "line": {
              "color": "#E5ECF6",
              "width": 0.5
             },
             "pattern": {
              "fillmode": "overlay",
              "size": 10,
              "solidity": 0.2
             }
            },
            "type": "bar"
           }
          ],
          "barpolar": [
           {
            "marker": {
             "line": {
              "color": "#E5ECF6",
              "width": 0.5
             },
             "pattern": {
              "fillmode": "overlay",
              "size": 10,
              "solidity": 0.2
             }
            },
            "type": "barpolar"
           }
          ],
          "carpet": [
           {
            "aaxis": {
             "endlinecolor": "#2a3f5f",
             "gridcolor": "white",
             "linecolor": "white",
             "minorgridcolor": "white",
             "startlinecolor": "#2a3f5f"
            },
            "baxis": {
             "endlinecolor": "#2a3f5f",
             "gridcolor": "white",
             "linecolor": "white",
             "minorgridcolor": "white",
             "startlinecolor": "#2a3f5f"
            },
            "type": "carpet"
           }
          ],
          "choropleth": [
           {
            "colorbar": {
             "outlinewidth": 0,
             "ticks": ""
            },
            "type": "choropleth"
           }
          ],
          "contour": [
           {
            "colorbar": {
             "outlinewidth": 0,
             "ticks": ""
            },
            "colorscale": [
             [
              0,
              "#0d0887"
             ],
             [
              0.1111111111111111,
              "#46039f"
             ],
             [
              0.2222222222222222,
              "#7201a8"
             ],
             [
              0.3333333333333333,
              "#9c179e"
             ],
             [
              0.4444444444444444,
              "#bd3786"
             ],
             [
              0.5555555555555556,
              "#d8576b"
             ],
             [
              0.6666666666666666,
              "#ed7953"
             ],
             [
              0.7777777777777778,
              "#fb9f3a"
             ],
             [
              0.8888888888888888,
              "#fdca26"
             ],
             [
              1,
              "#f0f921"
             ]
            ],
            "type": "contour"
           }
          ],
          "contourcarpet": [
           {
            "colorbar": {
             "outlinewidth": 0,
             "ticks": ""
            },
            "type": "contourcarpet"
           }
          ],
          "heatmap": [
           {
            "colorbar": {
             "outlinewidth": 0,
             "ticks": ""
            },
            "colorscale": [
             [
              0,
              "#0d0887"
             ],
             [
              0.1111111111111111,
              "#46039f"
             ],
             [
              0.2222222222222222,
              "#7201a8"
             ],
             [
              0.3333333333333333,
              "#9c179e"
             ],
             [
              0.4444444444444444,
              "#bd3786"
             ],
             [
              0.5555555555555556,
              "#d8576b"
             ],
             [
              0.6666666666666666,
              "#ed7953"
             ],
             [
              0.7777777777777778,
              "#fb9f3a"
             ],
             [
              0.8888888888888888,
              "#fdca26"
             ],
             [
              1,
              "#f0f921"
             ]
            ],
            "type": "heatmap"
           }
          ],
          "histogram": [
           {
            "marker": {
             "pattern": {
              "fillmode": "overlay",
              "size": 10,
              "solidity": 0.2
             }
            },
            "type": "histogram"
           }
          ],
          "histogram2d": [
           {
            "colorbar": {
             "outlinewidth": 0,
             "ticks": ""
            },
            "colorscale": [
             [
              0,
              "#0d0887"
             ],
             [
              0.1111111111111111,
              "#46039f"
             ],
             [
              0.2222222222222222,
              "#7201a8"
             ],
             [
              0.3333333333333333,
              "#9c179e"
             ],
             [
              0.4444444444444444,
              "#bd3786"
             ],
             [
              0.5555555555555556,
              "#d8576b"
             ],
             [
              0.6666666666666666,
              "#ed7953"
             ],
             [
              0.7777777777777778,
              "#fb9f3a"
             ],
             [
              0.8888888888888888,
              "#fdca26"
             ],
             [
              1,
              "#f0f921"
             ]
            ],
            "type": "histogram2d"
           }
          ],
          "histogram2dcontour": [
           {
            "colorbar": {
             "outlinewidth": 0,
             "ticks": ""
            },
            "colorscale": [
             [
              0,
              "#0d0887"
             ],
             [
              0.1111111111111111,
              "#46039f"
             ],
             [
              0.2222222222222222,
              "#7201a8"
             ],
             [
              0.3333333333333333,
              "#9c179e"
             ],
             [
              0.4444444444444444,
              "#bd3786"
             ],
             [
              0.5555555555555556,
              "#d8576b"
             ],
             [
              0.6666666666666666,
              "#ed7953"
             ],
             [
              0.7777777777777778,
              "#fb9f3a"
             ],
             [
              0.8888888888888888,
              "#fdca26"
             ],
             [
              1,
              "#f0f921"
             ]
            ],
            "type": "histogram2dcontour"
           }
          ],
          "mesh3d": [
           {
            "colorbar": {
             "outlinewidth": 0,
             "ticks": ""
            },
            "type": "mesh3d"
           }
          ],
          "parcoords": [
           {
            "line": {
             "colorbar": {
              "outlinewidth": 0,
              "ticks": ""
             }
            },
            "type": "parcoords"
           }
          ],
          "pie": [
           {
            "automargin": true,
            "type": "pie"
           }
          ],
          "scatter": [
           {
            "fillpattern": {
             "fillmode": "overlay",
             "size": 10,
             "solidity": 0.2
            },
            "type": "scatter"
           }
          ],
          "scatter3d": [
           {
            "line": {
             "colorbar": {
              "outlinewidth": 0,
              "ticks": ""
             }
            },
            "marker": {
             "colorbar": {
              "outlinewidth": 0,
              "ticks": ""
             }
            },
            "type": "scatter3d"
           }
          ],
          "scattercarpet": [
           {
            "marker": {
             "colorbar": {
              "outlinewidth": 0,
              "ticks": ""
             }
            },
            "type": "scattercarpet"
           }
          ],
          "scattergeo": [
           {
            "marker": {
             "colorbar": {
              "outlinewidth": 0,
              "ticks": ""
             }
            },
            "type": "scattergeo"
           }
          ],
          "scattergl": [
           {
            "marker": {
             "colorbar": {
              "outlinewidth": 0,
              "ticks": ""
             }
            },
            "type": "scattergl"
           }
          ],
          "scattermap": [
           {
            "marker": {
             "colorbar": {
              "outlinewidth": 0,
              "ticks": ""
             }
            },
            "type": "scattermap"
           }
          ],
          "scattermapbox": [
           {
            "marker": {
             "colorbar": {
              "outlinewidth": 0,
              "ticks": ""
             }
            },
            "type": "scattermapbox"
           }
          ],
          "scatterpolar": [
           {
            "marker": {
             "colorbar": {
              "outlinewidth": 0,
              "ticks": ""
             }
            },
            "type": "scatterpolar"
           }
          ],
          "scatterpolargl": [
           {
            "marker": {
             "colorbar": {
              "outlinewidth": 0,
              "ticks": ""
             }
            },
            "type": "scatterpolargl"
           }
          ],
          "scatterternary": [
           {
            "marker": {
             "colorbar": {
              "outlinewidth": 0,
              "ticks": ""
             }
            },
            "type": "scatterternary"
           }
          ],
          "surface": [
           {
            "colorbar": {
             "outlinewidth": 0,
             "ticks": ""
            },
            "colorscale": [
             [
              0,
              "#0d0887"
             ],
             [
              0.1111111111111111,
              "#46039f"
             ],
             [
              0.2222222222222222,
              "#7201a8"
             ],
             [
              0.3333333333333333,
              "#9c179e"
             ],
             [
              0.4444444444444444,
              "#bd3786"
             ],
             [
              0.5555555555555556,
              "#d8576b"
             ],
             [
              0.6666666666666666,
              "#ed7953"
             ],
             [
              0.7777777777777778,
              "#fb9f3a"
             ],
             [
              0.8888888888888888,
              "#fdca26"
             ],
             [
              1,
              "#f0f921"
             ]
            ],
            "type": "surface"
           }
          ],
          "table": [
           {
            "cells": {
             "fill": {
              "color": "#EBF0F8"
             },
             "line": {
              "color": "white"
             }
            },
            "header": {
             "fill": {
              "color": "#C8D4E3"
             },
             "line": {
              "color": "white"
             }
            },
            "type": "table"
           }
          ]
         },
         "layout": {
          "annotationdefaults": {
           "arrowcolor": "#2a3f5f",
           "arrowhead": 0,
           "arrowwidth": 1
          },
          "autotypenumbers": "strict",
          "coloraxis": {
           "colorbar": {
            "outlinewidth": 0,
            "ticks": ""
           }
          },
          "colorscale": {
           "diverging": [
            [
             0,
             "#8e0152"
            ],
            [
             0.1,
             "#c51b7d"
            ],
            [
             0.2,
             "#de77ae"
            ],
            [
             0.3,
             "#f1b6da"
            ],
            [
             0.4,
             "#fde0ef"
            ],
            [
             0.5,
             "#f7f7f7"
            ],
            [
             0.6,
             "#e6f5d0"
            ],
            [
             0.7,
             "#b8e186"
            ],
            [
             0.8,
             "#7fbc41"
            ],
            [
             0.9,
             "#4d9221"
            ],
            [
             1,
             "#276419"
            ]
           ],
           "sequential": [
            [
             0,
             "#0d0887"
            ],
            [
             0.1111111111111111,
             "#46039f"
            ],
            [
             0.2222222222222222,
             "#7201a8"
            ],
            [
             0.3333333333333333,
             "#9c179e"
            ],
            [
             0.4444444444444444,
             "#bd3786"
            ],
            [
             0.5555555555555556,
             "#d8576b"
            ],
            [
             0.6666666666666666,
             "#ed7953"
            ],
            [
             0.7777777777777778,
             "#fb9f3a"
            ],
            [
             0.8888888888888888,
             "#fdca26"
            ],
            [
             1,
             "#f0f921"
            ]
           ],
           "sequentialminus": [
            [
             0,
             "#0d0887"
            ],
            [
             0.1111111111111111,
             "#46039f"
            ],
            [
             0.2222222222222222,
             "#7201a8"
            ],
            [
             0.3333333333333333,
             "#9c179e"
            ],
            [
             0.4444444444444444,
             "#bd3786"
            ],
            [
             0.5555555555555556,
             "#d8576b"
            ],
            [
             0.6666666666666666,
             "#ed7953"
            ],
            [
             0.7777777777777778,
             "#fb9f3a"
            ],
            [
             0.8888888888888888,
             "#fdca26"
            ],
            [
             1,
             "#f0f921"
            ]
           ]
          },
          "colorway": [
           "#636efa",
           "#EF553B",
           "#00cc96",
           "#ab63fa",
           "#FFA15A",
           "#19d3f3",
           "#FF6692",
           "#B6E880",
           "#FF97FF",
           "#FECB52"
          ],
          "font": {
           "color": "#2a3f5f"
          },
          "geo": {
           "bgcolor": "white",
           "lakecolor": "white",
           "landcolor": "#E5ECF6",
           "showlakes": true,
           "showland": true,
           "subunitcolor": "white"
          },
          "hoverlabel": {
           "align": "left"
          },
          "hovermode": "closest",
          "mapbox": {
           "style": "light"
          },
          "paper_bgcolor": "white",
          "plot_bgcolor": "#E5ECF6",
          "polar": {
           "angularaxis": {
            "gridcolor": "white",
            "linecolor": "white",
            "ticks": ""
           },
           "bgcolor": "#E5ECF6",
           "radialaxis": {
            "gridcolor": "white",
            "linecolor": "white",
            "ticks": ""
           }
          },
          "scene": {
           "xaxis": {
            "backgroundcolor": "#E5ECF6",
            "gridcolor": "white",
            "gridwidth": 2,
            "linecolor": "white",
            "showbackground": true,
            "ticks": "",
            "zerolinecolor": "white"
           },
           "yaxis": {
            "backgroundcolor": "#E5ECF6",
            "gridcolor": "white",
            "gridwidth": 2,
            "linecolor": "white",
            "showbackground": true,
            "ticks": "",
            "zerolinecolor": "white"
           },
           "zaxis": {
            "backgroundcolor": "#E5ECF6",
            "gridcolor": "white",
            "gridwidth": 2,
            "linecolor": "white",
            "showbackground": true,
            "ticks": "",
            "zerolinecolor": "white"
           }
          },
          "shapedefaults": {
           "line": {
            "color": "#2a3f5f"
           }
          },
          "ternary": {
           "aaxis": {
            "gridcolor": "white",
            "linecolor": "white",
            "ticks": ""
           },
           "baxis": {
            "gridcolor": "white",
            "linecolor": "white",
            "ticks": ""
           },
           "bgcolor": "#E5ECF6",
           "caxis": {
            "gridcolor": "white",
            "linecolor": "white",
            "ticks": ""
           }
          },
          "title": {
           "x": 0.05
          },
          "xaxis": {
           "automargin": true,
           "gridcolor": "white",
           "linecolor": "white",
           "ticks": "",
           "title": {
            "standoff": 15
           },
           "zerolinecolor": "white",
           "zerolinewidth": 2
          },
          "yaxis": {
           "automargin": true,
           "gridcolor": "white",
           "linecolor": "white",
           "ticks": "",
           "title": {
            "standoff": 15
           },
           "zerolinecolor": "white",
           "zerolinewidth": 2
          }
         }
        }
       }
      },
      "image/png": "[encoded data removed]"
     },
     "metadata": {},
     "output_type": "display_data"
    }
   ],
   "source": [
    "# data to dict, dict to sankey\n",
    "import plotly.graph_objects as go\n",
    "link = dict(source = source, target = target, value = value, color=color_link)\n",
    "node = dict(label = label, pad=15, thickness=5, color=color_node)\n",
    "data = go.Sankey(link = link, node=node)\n",
    "# plot\n",
    "fig = go.Figure(data)\n",
    "fig.show()"
   ]
  },
  {
   "cell_type": "code",
   "execution_count": null,
   "id": "7b321b6e-bbbc-4a4d-9afc-f5fa0d2941e0",
   "metadata": {},
   "outputs": [],
   "source": []
  }
 ],
 "metadata": {
  "kernelspec": {
   "display_name": "Python 3 (ipykernel)",
   "language": "python",
   "name": "python3"
  },
  "language_info": {
   "codemirror_mode": {
    "name": "ipython",
    "version": 3
   },
   "file_extension": ".py",
   "mimetype": "text/x-python",
   "name": "python",
   "nbconvert_exporter": "python",
   "pygments_lexer": "ipython3",
   "version": "3.11.13"
  }
 },
 "nbformat": 4,
 "nbformat_minor": 5
}
