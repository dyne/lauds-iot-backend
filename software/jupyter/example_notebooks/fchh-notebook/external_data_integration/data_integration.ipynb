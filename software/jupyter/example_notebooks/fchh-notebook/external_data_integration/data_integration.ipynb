{
 "cells": [
  {
   "cell_type": "markdown",
   "id": "ad69f757",
   "metadata": {},
   "source": [
    "# Mqtt python integration"
   ]
  },
  {
   "cell_type": "code",
   "execution_count": null,
   "id": "5a3f7dce",
   "metadata": {},
   "outputs": [],
   "source": [
    "import paho.mqtt.client as mqtt\n",
    "import pandas as pd\n",
    "\n",
    "BROKER = \"192.168.188.159\"   \n",
    "PORT = 1883\n",
    "TOPIC = \"SPPS-04/status/switch:0\"  \n",
    "\n",
    "messages = []\n",
    "\n",
    "def on_connect(client, userdata, flags, rc):\n",
    "    if rc == 0:\n",
    "        client.subscribe(TOPIC)\n",
    "    else:\n",
    "        print(f\"Failed to connect, return code {rc}\")\n",
    "\n",
    "def on_message(client, userdata, msg):\n",
    "    payload = msg.payload.decode()\n",
    "    print(f\"{msg.topic} => {payload}\")\n",
    "    messages.append({\"topic\": msg.topic, \"message\": payload})\n",
    "\n",
    "client = mqtt.Client()\n",
    "client.on_connect = on_connect\n",
    "client.on_message = on_message\n",
    "\n",
    "client.connect(BROKER, PORT, 60)\n",
    "\n",
    "try:\n",
    "    client.loop_start()\n",
    "    print(\"Listening to MQTT...\")\n",
    "    while True:\n",
    "        pass\n",
    "except KeyboardInterrupt:\n",
    "    print(\"\\n Stopping...\")\n",
    "    client.loop_stop()\n",
    "\n",
    "df = pd.DataFrame(messages)\n",
    "print(df.head())\n"
   ]
  },
  {
   "cell_type": "markdown",
   "id": "77e30b89",
   "metadata": {},
   "source": [
    "# Influxdb to python"
   ]
  },
  {
   "cell_type": "code",
   "execution_count": null,
   "id": "ec94a3ca",
   "metadata": {},
   "outputs": [],
   "source": [
    "from influxdb_client import InfluxDBClient\n",
    "import pandas as pd\n",
    "\n",
    "# --- Connection details ---\n",
    "url = \"http://localhost:8086\"\n",
    "token = \"aFqHDK6EKcy6HSgIBYU**********j_68KCm4HvKk5oyBByzORR55DeHwOyKwgww==\"   \n",
    "org = \"microfactory\"                \n",
    "bucket = \"sensor_data\"          \n",
    "\n",
    "# --- Connect to InfluxDB ---\n",
    "client = InfluxDBClient(url=url, token=token, org=org)\n",
    "\n",
    "# --- Define Flux query ---\n",
    "query = f'''\n",
    "from(bucket: \"{bucket}\")\n",
    "  |> range(start: -1h)  // last 1 hour\n",
    "  |> filter(fn: (r) => r[\"_measurement\"] == \"temperature\")\n",
    "'''\n",
    "\n",
    "query_api = client.query_api()\n",
    "tables = query_api.query_data_frame(org=org, query=query)\n",
    "\n",
    "if isinstance(tables, list):\n",
    "    df = pd.concat(tables)\n",
    "else:\n",
    "    df = tables\n",
    "\n",
    "print(df.head())\n"
   ]
  }
 ],
 "metadata": {
  "language_info": {
   "name": "python"
  }
 },
 "nbformat": 4,
 "nbformat_minor": 5
}
